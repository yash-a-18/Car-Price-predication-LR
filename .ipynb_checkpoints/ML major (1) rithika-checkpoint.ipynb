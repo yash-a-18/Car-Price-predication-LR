{
 "cells": [
  {
   "cell_type": "code",
   "execution_count": 3,
   "metadata": {},
   "outputs": [
    {
     "name": "stdout",
     "output_type": "stream",
     "text": [
      "Requirement already satisfied: xgboost in c:\\programdata\\anaconda3\\lib\\site-packages (1.1.1)\n",
      "Requirement already satisfied: numpy in c:\\programdata\\anaconda3\\lib\\site-packages (from xgboost) (1.18.1)\n",
      "Requirement already satisfied: scipy in c:\\programdata\\anaconda3\\lib\\site-packages (from xgboost) (1.4.1)\n"
     ]
    }
   ],
   "source": [
    "!pip install xgboost\n"
   ]
  },
  {
   "cell_type": "code",
   "execution_count": 3,
   "metadata": {},
   "outputs": [],
   "source": [
    "import pandas as pd\n",
    "import xgboost as xgb\n",
    "import numpy as np\n",
    "import seaborn as sns\n",
    "import matplotlib.pyplot as plt\n",
    "%matplotlib inline"
   ]
  },
  {
   "cell_type": "code",
   "execution_count": null,
   "metadata": {},
   "outputs": [],
   "source": []
  },
  {
   "cell_type": "code",
   "execution_count": 4,
   "metadata": {},
   "outputs": [
    {
     "name": "stdout",
     "output_type": "stream",
     "text": [
      "                                  Name    Location  Year  Kilometers_Driven  \\\n",
      "0               Maruti Wagon R LXI CNG      Mumbai  2010              72000   \n",
      "1     Hyundai Creta 1.6 CRDi SX Option        Pune  2015              41000   \n",
      "2                         Honda Jazz V     Chennai  2011              46000   \n",
      "3                    Maruti Ertiga VDI     Chennai  2012              87000   \n",
      "4      Audi A4 New 2.0 TDI Multitronic  Coimbatore  2013              40670   \n",
      "...                                ...         ...   ...                ...   \n",
      "6014                  Maruti Swift VDI       Delhi  2014              27365   \n",
      "6015          Hyundai Xcent 1.1 CRDi S      Jaipur  2015             100000   \n",
      "6016             Mahindra Xylo D4 BSIV      Jaipur  2012              55000   \n",
      "6017                Maruti Wagon R VXI     Kolkata  2013              46000   \n",
      "6018             Chevrolet Beat Diesel   Hyderabad  2011              47000   \n",
      "\n",
      "     Fuel_Type Transmission Owner_Type     Mileage   Engine      Power  Seats  \\\n",
      "0          CNG       Manual      First  26.6 km/kg   998 CC  58.16 bhp    5.0   \n",
      "1       Diesel       Manual      First  19.67 kmpl  1582 CC  126.2 bhp    5.0   \n",
      "2       Petrol       Manual      First   18.2 kmpl  1199 CC   88.7 bhp    5.0   \n",
      "3       Diesel       Manual      First  20.77 kmpl  1248 CC  88.76 bhp    7.0   \n",
      "4       Diesel    Automatic     Second   15.2 kmpl  1968 CC  140.8 bhp    5.0   \n",
      "...        ...          ...        ...         ...      ...        ...    ...   \n",
      "6014    Diesel       Manual      First   28.4 kmpl  1248 CC     74 bhp    5.0   \n",
      "6015    Diesel       Manual      First   24.4 kmpl  1120 CC     71 bhp    5.0   \n",
      "6016    Diesel       Manual     Second   14.0 kmpl  2498 CC    112 bhp    8.0   \n",
      "6017    Petrol       Manual      First   18.9 kmpl   998 CC   67.1 bhp    5.0   \n",
      "6018    Diesel       Manual      First  25.44 kmpl   936 CC   57.6 bhp    5.0   \n",
      "\n",
      "      Price  \n",
      "0      1.75  \n",
      "1     12.50  \n",
      "2      4.50  \n",
      "3      6.00  \n",
      "4     17.74  \n",
      "...     ...  \n",
      "6014   4.75  \n",
      "6015   4.00  \n",
      "6016   2.90  \n",
      "6017   2.65  \n",
      "6018   2.50  \n",
      "\n",
      "[6019 rows x 12 columns]\n"
     ]
    }
   ],
   "source": [
    "import pandas as pd\n",
    "data=pd.read_excel('Data_Train (1).xlsx')\n",
    "data1=pd.read_excel(Data_Train (1).xlsx')\n",
    "print(data)"
   ]
  },
  {
   "cell_type": "markdown",
   "metadata": {},
   "source": [
    "# Checking how many unique cars are there"
   ]
  },
  {
   "cell_type": "code",
   "execution_count": 5,
   "metadata": {},
   "outputs": [],
   "source": [
    "uniqueCars = data.Name.unique()"
   ]
  },
  {
   "cell_type": "code",
   "execution_count": 6,
   "metadata": {},
   "outputs": [],
   "source": [
    "plt.rcParams[\"figure.figsize\"] = [20,8]"
   ]
  },
  {
   "cell_type": "code",
   "execution_count": 7,
   "metadata": {},
   "outputs": [
    {
     "data": {
      "text/plain": [
       "1876"
      ]
     },
     "execution_count": 7,
     "metadata": {},
     "output_type": "execute_result"
    }
   ],
   "source": [
    "uniqueCars.size"
   ]
  },
  {
   "cell_type": "code",
   "execution_count": 8,
   "metadata": {},
   "outputs": [
    {
     "data": {
      "text/plain": [
       "Name                  0\n",
       "Location              0\n",
       "Year                  0\n",
       "Kilometers_Driven     0\n",
       "Fuel_Type             0\n",
       "Transmission          0\n",
       "Owner_Type            0\n",
       "Mileage               2\n",
       "Engine               36\n",
       "Power                36\n",
       "Seats                42\n",
       "Price                 0\n",
       "dtype: int64"
      ]
     },
     "execution_count": 8,
     "metadata": {},
     "output_type": "execute_result"
    }
   ],
   "source": [
    "# checking null values\n",
    "\n",
    "data.isnull().sum()"
   ]
  },
  {
   "cell_type": "markdown",
   "metadata": {},
   "source": [
    "# Filled all null values of seats with number 2"
   ]
  },
  {
   "cell_type": "code",
   "execution_count": 9,
   "metadata": {},
   "outputs": [],
   "source": [
    "data[\"Seats\"].fillna(2, inplace = True)"
   ]
  },
  {
   "cell_type": "markdown",
   "metadata": {},
   "source": [
    "# Checking null columns "
   ]
  },
  {
   "cell_type": "code",
   "execution_count": 10,
   "metadata": {},
   "outputs": [
    {
     "data": {
      "text/plain": [
       "Name                  0\n",
       "Location              0\n",
       "Year                  0\n",
       "Kilometers_Driven     0\n",
       "Fuel_Type             0\n",
       "Transmission          0\n",
       "Owner_Type            0\n",
       "Mileage               2\n",
       "Engine               36\n",
       "Power                36\n",
       "Seats                 0\n",
       "Price                 0\n",
       "dtype: int64"
      ]
     },
     "execution_count": 10,
     "metadata": {},
     "output_type": "execute_result"
    }
   ],
   "source": [
    "data.isnull().sum()"
   ]
  },
  {
   "cell_type": "markdown",
   "metadata": {},
   "source": [
    "# Removing CC from Engine column"
   ]
  },
  {
   "cell_type": "code",
   "execution_count": 11,
   "metadata": {},
   "outputs": [],
   "source": [
    "cleanEngine = (data.Engine.str.split(' ').str[0]) "
   ]
  },
  {
   "cell_type": "code",
   "execution_count": 12,
   "metadata": {},
   "outputs": [
    {
     "data": {
      "text/plain": [
       "0        998\n",
       "1       1582\n",
       "2       1199\n",
       "3       1248\n",
       "4       1968\n",
       "        ... \n",
       "6014    1248\n",
       "6015    1120\n",
       "6016    2498\n",
       "6017     998\n",
       "6018     936\n",
       "Name: Engine, Length: 6019, dtype: object"
      ]
     },
     "execution_count": 12,
     "metadata": {},
     "output_type": "execute_result"
    }
   ],
   "source": [
    "cleanEngine"
   ]
  },
  {
   "cell_type": "markdown",
   "metadata": {},
   "source": [
    "# adding a clean engine column in the dataset"
   ]
  },
  {
   "cell_type": "code",
   "execution_count": 13,
   "metadata": {},
   "outputs": [],
   "source": [
    "data['cleanEngine'] = cleanEngine "
   ]
  },
  {
   "cell_type": "code",
   "execution_count": 14,
   "metadata": {},
   "outputs": [
    {
     "data": {
      "text/html": [
       "<div>\n",
       "<style scoped>\n",
       "    .dataframe tbody tr th:only-of-type {\n",
       "        vertical-align: middle;\n",
       "    }\n",
       "\n",
       "    .dataframe tbody tr th {\n",
       "        vertical-align: top;\n",
       "    }\n",
       "\n",
       "    .dataframe thead th {\n",
       "        text-align: right;\n",
       "    }\n",
       "</style>\n",
       "<table border=\"1\" class=\"dataframe\">\n",
       "  <thead>\n",
       "    <tr style=\"text-align: right;\">\n",
       "      <th></th>\n",
       "      <th>Name</th>\n",
       "      <th>Location</th>\n",
       "      <th>Year</th>\n",
       "      <th>Kilometers_Driven</th>\n",
       "      <th>Fuel_Type</th>\n",
       "      <th>Transmission</th>\n",
       "      <th>Owner_Type</th>\n",
       "      <th>Mileage</th>\n",
       "      <th>Engine</th>\n",
       "      <th>Power</th>\n",
       "      <th>Seats</th>\n",
       "      <th>Price</th>\n",
       "      <th>cleanEngine</th>\n",
       "    </tr>\n",
       "  </thead>\n",
       "  <tbody>\n",
       "    <tr>\n",
       "      <th>0</th>\n",
       "      <td>Maruti Wagon R LXI CNG</td>\n",
       "      <td>Mumbai</td>\n",
       "      <td>2010</td>\n",
       "      <td>72000</td>\n",
       "      <td>CNG</td>\n",
       "      <td>Manual</td>\n",
       "      <td>First</td>\n",
       "      <td>26.6 km/kg</td>\n",
       "      <td>998 CC</td>\n",
       "      <td>58.16 bhp</td>\n",
       "      <td>5.0</td>\n",
       "      <td>1.75</td>\n",
       "      <td>998</td>\n",
       "    </tr>\n",
       "    <tr>\n",
       "      <th>1</th>\n",
       "      <td>Hyundai Creta 1.6 CRDi SX Option</td>\n",
       "      <td>Pune</td>\n",
       "      <td>2015</td>\n",
       "      <td>41000</td>\n",
       "      <td>Diesel</td>\n",
       "      <td>Manual</td>\n",
       "      <td>First</td>\n",
       "      <td>19.67 kmpl</td>\n",
       "      <td>1582 CC</td>\n",
       "      <td>126.2 bhp</td>\n",
       "      <td>5.0</td>\n",
       "      <td>12.50</td>\n",
       "      <td>1582</td>\n",
       "    </tr>\n",
       "    <tr>\n",
       "      <th>2</th>\n",
       "      <td>Honda Jazz V</td>\n",
       "      <td>Chennai</td>\n",
       "      <td>2011</td>\n",
       "      <td>46000</td>\n",
       "      <td>Petrol</td>\n",
       "      <td>Manual</td>\n",
       "      <td>First</td>\n",
       "      <td>18.2 kmpl</td>\n",
       "      <td>1199 CC</td>\n",
       "      <td>88.7 bhp</td>\n",
       "      <td>5.0</td>\n",
       "      <td>4.50</td>\n",
       "      <td>1199</td>\n",
       "    </tr>\n",
       "    <tr>\n",
       "      <th>3</th>\n",
       "      <td>Maruti Ertiga VDI</td>\n",
       "      <td>Chennai</td>\n",
       "      <td>2012</td>\n",
       "      <td>87000</td>\n",
       "      <td>Diesel</td>\n",
       "      <td>Manual</td>\n",
       "      <td>First</td>\n",
       "      <td>20.77 kmpl</td>\n",
       "      <td>1248 CC</td>\n",
       "      <td>88.76 bhp</td>\n",
       "      <td>7.0</td>\n",
       "      <td>6.00</td>\n",
       "      <td>1248</td>\n",
       "    </tr>\n",
       "    <tr>\n",
       "      <th>4</th>\n",
       "      <td>Audi A4 New 2.0 TDI Multitronic</td>\n",
       "      <td>Coimbatore</td>\n",
       "      <td>2013</td>\n",
       "      <td>40670</td>\n",
       "      <td>Diesel</td>\n",
       "      <td>Automatic</td>\n",
       "      <td>Second</td>\n",
       "      <td>15.2 kmpl</td>\n",
       "      <td>1968 CC</td>\n",
       "      <td>140.8 bhp</td>\n",
       "      <td>5.0</td>\n",
       "      <td>17.74</td>\n",
       "      <td>1968</td>\n",
       "    </tr>\n",
       "  </tbody>\n",
       "</table>\n",
       "</div>"
      ],
      "text/plain": [
       "                               Name    Location  Year  Kilometers_Driven  \\\n",
       "0            Maruti Wagon R LXI CNG      Mumbai  2010              72000   \n",
       "1  Hyundai Creta 1.6 CRDi SX Option        Pune  2015              41000   \n",
       "2                      Honda Jazz V     Chennai  2011              46000   \n",
       "3                 Maruti Ertiga VDI     Chennai  2012              87000   \n",
       "4   Audi A4 New 2.0 TDI Multitronic  Coimbatore  2013              40670   \n",
       "\n",
       "  Fuel_Type Transmission Owner_Type     Mileage   Engine      Power  Seats  \\\n",
       "0       CNG       Manual      First  26.6 km/kg   998 CC  58.16 bhp    5.0   \n",
       "1    Diesel       Manual      First  19.67 kmpl  1582 CC  126.2 bhp    5.0   \n",
       "2    Petrol       Manual      First   18.2 kmpl  1199 CC   88.7 bhp    5.0   \n",
       "3    Diesel       Manual      First  20.77 kmpl  1248 CC  88.76 bhp    7.0   \n",
       "4    Diesel    Automatic     Second   15.2 kmpl  1968 CC  140.8 bhp    5.0   \n",
       "\n",
       "   Price cleanEngine  \n",
       "0   1.75         998  \n",
       "1  12.50        1582  \n",
       "2   4.50        1199  \n",
       "3   6.00        1248  \n",
       "4  17.74        1968  "
      ]
     },
     "execution_count": 14,
     "metadata": {},
     "output_type": "execute_result"
    }
   ],
   "source": [
    "data.head(5)"
   ]
  },
  {
   "cell_type": "markdown",
   "metadata": {},
   "source": [
    "# Removing bhp from Power column"
   ]
  },
  {
   "cell_type": "code",
   "execution_count": 15,
   "metadata": {},
   "outputs": [],
   "source": [
    "cleanPower = (data.Power.str.split(' ').str[0])"
   ]
  },
  {
   "cell_type": "code",
   "execution_count": 16,
   "metadata": {},
   "outputs": [
    {
     "data": {
      "text/plain": [
       "0       58.16\n",
       "1       126.2\n",
       "2        88.7\n",
       "3       88.76\n",
       "4       140.8\n",
       "        ...  \n",
       "6014       74\n",
       "6015       71\n",
       "6016      112\n",
       "6017     67.1\n",
       "6018     57.6\n",
       "Name: Power, Length: 6019, dtype: object"
      ]
     },
     "execution_count": 16,
     "metadata": {},
     "output_type": "execute_result"
    }
   ],
   "source": [
    "cleanPower"
   ]
  },
  {
   "cell_type": "markdown",
   "metadata": {},
   "source": [
    "# adding a clean power column in the dataset"
   ]
  },
  {
   "cell_type": "code",
   "execution_count": 17,
   "metadata": {},
   "outputs": [],
   "source": [
    "data['cleanPower'] = cleanPower "
   ]
  },
  {
   "cell_type": "code",
   "execution_count": 18,
   "metadata": {},
   "outputs": [
    {
     "data": {
      "text/html": [
       "<div>\n",
       "<style scoped>\n",
       "    .dataframe tbody tr th:only-of-type {\n",
       "        vertical-align: middle;\n",
       "    }\n",
       "\n",
       "    .dataframe tbody tr th {\n",
       "        vertical-align: top;\n",
       "    }\n",
       "\n",
       "    .dataframe thead th {\n",
       "        text-align: right;\n",
       "    }\n",
       "</style>\n",
       "<table border=\"1\" class=\"dataframe\">\n",
       "  <thead>\n",
       "    <tr style=\"text-align: right;\">\n",
       "      <th></th>\n",
       "      <th>Name</th>\n",
       "      <th>Location</th>\n",
       "      <th>Year</th>\n",
       "      <th>Kilometers_Driven</th>\n",
       "      <th>Fuel_Type</th>\n",
       "      <th>Transmission</th>\n",
       "      <th>Owner_Type</th>\n",
       "      <th>Mileage</th>\n",
       "      <th>Engine</th>\n",
       "      <th>Power</th>\n",
       "      <th>Seats</th>\n",
       "      <th>Price</th>\n",
       "      <th>cleanEngine</th>\n",
       "      <th>cleanPower</th>\n",
       "    </tr>\n",
       "  </thead>\n",
       "  <tbody>\n",
       "    <tr>\n",
       "      <th>0</th>\n",
       "      <td>Maruti Wagon R LXI CNG</td>\n",
       "      <td>Mumbai</td>\n",
       "      <td>2010</td>\n",
       "      <td>72000</td>\n",
       "      <td>CNG</td>\n",
       "      <td>Manual</td>\n",
       "      <td>First</td>\n",
       "      <td>26.6 km/kg</td>\n",
       "      <td>998 CC</td>\n",
       "      <td>58.16 bhp</td>\n",
       "      <td>5.0</td>\n",
       "      <td>1.75</td>\n",
       "      <td>998</td>\n",
       "      <td>58.16</td>\n",
       "    </tr>\n",
       "    <tr>\n",
       "      <th>1</th>\n",
       "      <td>Hyundai Creta 1.6 CRDi SX Option</td>\n",
       "      <td>Pune</td>\n",
       "      <td>2015</td>\n",
       "      <td>41000</td>\n",
       "      <td>Diesel</td>\n",
       "      <td>Manual</td>\n",
       "      <td>First</td>\n",
       "      <td>19.67 kmpl</td>\n",
       "      <td>1582 CC</td>\n",
       "      <td>126.2 bhp</td>\n",
       "      <td>5.0</td>\n",
       "      <td>12.50</td>\n",
       "      <td>1582</td>\n",
       "      <td>126.2</td>\n",
       "    </tr>\n",
       "    <tr>\n",
       "      <th>2</th>\n",
       "      <td>Honda Jazz V</td>\n",
       "      <td>Chennai</td>\n",
       "      <td>2011</td>\n",
       "      <td>46000</td>\n",
       "      <td>Petrol</td>\n",
       "      <td>Manual</td>\n",
       "      <td>First</td>\n",
       "      <td>18.2 kmpl</td>\n",
       "      <td>1199 CC</td>\n",
       "      <td>88.7 bhp</td>\n",
       "      <td>5.0</td>\n",
       "      <td>4.50</td>\n",
       "      <td>1199</td>\n",
       "      <td>88.7</td>\n",
       "    </tr>\n",
       "    <tr>\n",
       "      <th>3</th>\n",
       "      <td>Maruti Ertiga VDI</td>\n",
       "      <td>Chennai</td>\n",
       "      <td>2012</td>\n",
       "      <td>87000</td>\n",
       "      <td>Diesel</td>\n",
       "      <td>Manual</td>\n",
       "      <td>First</td>\n",
       "      <td>20.77 kmpl</td>\n",
       "      <td>1248 CC</td>\n",
       "      <td>88.76 bhp</td>\n",
       "      <td>7.0</td>\n",
       "      <td>6.00</td>\n",
       "      <td>1248</td>\n",
       "      <td>88.76</td>\n",
       "    </tr>\n",
       "    <tr>\n",
       "      <th>4</th>\n",
       "      <td>Audi A4 New 2.0 TDI Multitronic</td>\n",
       "      <td>Coimbatore</td>\n",
       "      <td>2013</td>\n",
       "      <td>40670</td>\n",
       "      <td>Diesel</td>\n",
       "      <td>Automatic</td>\n",
       "      <td>Second</td>\n",
       "      <td>15.2 kmpl</td>\n",
       "      <td>1968 CC</td>\n",
       "      <td>140.8 bhp</td>\n",
       "      <td>5.0</td>\n",
       "      <td>17.74</td>\n",
       "      <td>1968</td>\n",
       "      <td>140.8</td>\n",
       "    </tr>\n",
       "  </tbody>\n",
       "</table>\n",
       "</div>"
      ],
      "text/plain": [
       "                               Name    Location  Year  Kilometers_Driven  \\\n",
       "0            Maruti Wagon R LXI CNG      Mumbai  2010              72000   \n",
       "1  Hyundai Creta 1.6 CRDi SX Option        Pune  2015              41000   \n",
       "2                      Honda Jazz V     Chennai  2011              46000   \n",
       "3                 Maruti Ertiga VDI     Chennai  2012              87000   \n",
       "4   Audi A4 New 2.0 TDI Multitronic  Coimbatore  2013              40670   \n",
       "\n",
       "  Fuel_Type Transmission Owner_Type     Mileage   Engine      Power  Seats  \\\n",
       "0       CNG       Manual      First  26.6 km/kg   998 CC  58.16 bhp    5.0   \n",
       "1    Diesel       Manual      First  19.67 kmpl  1582 CC  126.2 bhp    5.0   \n",
       "2    Petrol       Manual      First   18.2 kmpl  1199 CC   88.7 bhp    5.0   \n",
       "3    Diesel       Manual      First  20.77 kmpl  1248 CC  88.76 bhp    7.0   \n",
       "4    Diesel    Automatic     Second   15.2 kmpl  1968 CC  140.8 bhp    5.0   \n",
       "\n",
       "   Price cleanEngine cleanPower  \n",
       "0   1.75         998      58.16  \n",
       "1  12.50        1582      126.2  \n",
       "2   4.50        1199       88.7  \n",
       "3   6.00        1248      88.76  \n",
       "4  17.74        1968      140.8  "
      ]
     },
     "execution_count": 18,
     "metadata": {},
     "output_type": "execute_result"
    }
   ],
   "source": [
    "data.head(5)"
   ]
  },
  {
   "cell_type": "markdown",
   "metadata": {},
   "source": [
    "# Removing km/kg or kmpl from mileage column"
   ]
  },
  {
   "cell_type": "code",
   "execution_count": 19,
   "metadata": {},
   "outputs": [],
   "source": [
    "cleanMileage = (data.Mileage.str.split(' ').str[0])"
   ]
  },
  {
   "cell_type": "code",
   "execution_count": 20,
   "metadata": {},
   "outputs": [
    {
     "data": {
      "text/plain": [
       "0        26.6\n",
       "1       19.67\n",
       "2        18.2\n",
       "3       20.77\n",
       "4        15.2\n",
       "        ...  \n",
       "6014     28.4\n",
       "6015     24.4\n",
       "6016     14.0\n",
       "6017     18.9\n",
       "6018    25.44\n",
       "Name: Mileage, Length: 6019, dtype: object"
      ]
     },
     "execution_count": 20,
     "metadata": {},
     "output_type": "execute_result"
    }
   ],
   "source": [
    "cleanMileage"
   ]
  },
  {
   "cell_type": "markdown",
   "metadata": {},
   "source": [
    "# adding a clean power mileage in the dataset"
   ]
  },
  {
   "cell_type": "code",
   "execution_count": 21,
   "metadata": {},
   "outputs": [],
   "source": [
    "data['cleanMileage'] = cleanMileage "
   ]
  },
  {
   "cell_type": "code",
   "execution_count": 22,
   "metadata": {},
   "outputs": [
    {
     "data": {
      "text/html": [
       "<div>\n",
       "<style scoped>\n",
       "    .dataframe tbody tr th:only-of-type {\n",
       "        vertical-align: middle;\n",
       "    }\n",
       "\n",
       "    .dataframe tbody tr th {\n",
       "        vertical-align: top;\n",
       "    }\n",
       "\n",
       "    .dataframe thead th {\n",
       "        text-align: right;\n",
       "    }\n",
       "</style>\n",
       "<table border=\"1\" class=\"dataframe\">\n",
       "  <thead>\n",
       "    <tr style=\"text-align: right;\">\n",
       "      <th></th>\n",
       "      <th>Name</th>\n",
       "      <th>Location</th>\n",
       "      <th>Year</th>\n",
       "      <th>Kilometers_Driven</th>\n",
       "      <th>Fuel_Type</th>\n",
       "      <th>Transmission</th>\n",
       "      <th>Owner_Type</th>\n",
       "      <th>Mileage</th>\n",
       "      <th>Engine</th>\n",
       "      <th>Power</th>\n",
       "      <th>Seats</th>\n",
       "      <th>Price</th>\n",
       "      <th>cleanEngine</th>\n",
       "      <th>cleanPower</th>\n",
       "      <th>cleanMileage</th>\n",
       "    </tr>\n",
       "  </thead>\n",
       "  <tbody>\n",
       "    <tr>\n",
       "      <th>0</th>\n",
       "      <td>Maruti Wagon R LXI CNG</td>\n",
       "      <td>Mumbai</td>\n",
       "      <td>2010</td>\n",
       "      <td>72000</td>\n",
       "      <td>CNG</td>\n",
       "      <td>Manual</td>\n",
       "      <td>First</td>\n",
       "      <td>26.6 km/kg</td>\n",
       "      <td>998 CC</td>\n",
       "      <td>58.16 bhp</td>\n",
       "      <td>5.0</td>\n",
       "      <td>1.75</td>\n",
       "      <td>998</td>\n",
       "      <td>58.16</td>\n",
       "      <td>26.6</td>\n",
       "    </tr>\n",
       "    <tr>\n",
       "      <th>1</th>\n",
       "      <td>Hyundai Creta 1.6 CRDi SX Option</td>\n",
       "      <td>Pune</td>\n",
       "      <td>2015</td>\n",
       "      <td>41000</td>\n",
       "      <td>Diesel</td>\n",
       "      <td>Manual</td>\n",
       "      <td>First</td>\n",
       "      <td>19.67 kmpl</td>\n",
       "      <td>1582 CC</td>\n",
       "      <td>126.2 bhp</td>\n",
       "      <td>5.0</td>\n",
       "      <td>12.50</td>\n",
       "      <td>1582</td>\n",
       "      <td>126.2</td>\n",
       "      <td>19.67</td>\n",
       "    </tr>\n",
       "    <tr>\n",
       "      <th>2</th>\n",
       "      <td>Honda Jazz V</td>\n",
       "      <td>Chennai</td>\n",
       "      <td>2011</td>\n",
       "      <td>46000</td>\n",
       "      <td>Petrol</td>\n",
       "      <td>Manual</td>\n",
       "      <td>First</td>\n",
       "      <td>18.2 kmpl</td>\n",
       "      <td>1199 CC</td>\n",
       "      <td>88.7 bhp</td>\n",
       "      <td>5.0</td>\n",
       "      <td>4.50</td>\n",
       "      <td>1199</td>\n",
       "      <td>88.7</td>\n",
       "      <td>18.2</td>\n",
       "    </tr>\n",
       "    <tr>\n",
       "      <th>3</th>\n",
       "      <td>Maruti Ertiga VDI</td>\n",
       "      <td>Chennai</td>\n",
       "      <td>2012</td>\n",
       "      <td>87000</td>\n",
       "      <td>Diesel</td>\n",
       "      <td>Manual</td>\n",
       "      <td>First</td>\n",
       "      <td>20.77 kmpl</td>\n",
       "      <td>1248 CC</td>\n",
       "      <td>88.76 bhp</td>\n",
       "      <td>7.0</td>\n",
       "      <td>6.00</td>\n",
       "      <td>1248</td>\n",
       "      <td>88.76</td>\n",
       "      <td>20.77</td>\n",
       "    </tr>\n",
       "    <tr>\n",
       "      <th>4</th>\n",
       "      <td>Audi A4 New 2.0 TDI Multitronic</td>\n",
       "      <td>Coimbatore</td>\n",
       "      <td>2013</td>\n",
       "      <td>40670</td>\n",
       "      <td>Diesel</td>\n",
       "      <td>Automatic</td>\n",
       "      <td>Second</td>\n",
       "      <td>15.2 kmpl</td>\n",
       "      <td>1968 CC</td>\n",
       "      <td>140.8 bhp</td>\n",
       "      <td>5.0</td>\n",
       "      <td>17.74</td>\n",
       "      <td>1968</td>\n",
       "      <td>140.8</td>\n",
       "      <td>15.2</td>\n",
       "    </tr>\n",
       "  </tbody>\n",
       "</table>\n",
       "</div>"
      ],
      "text/plain": [
       "                               Name    Location  Year  Kilometers_Driven  \\\n",
       "0            Maruti Wagon R LXI CNG      Mumbai  2010              72000   \n",
       "1  Hyundai Creta 1.6 CRDi SX Option        Pune  2015              41000   \n",
       "2                      Honda Jazz V     Chennai  2011              46000   \n",
       "3                 Maruti Ertiga VDI     Chennai  2012              87000   \n",
       "4   Audi A4 New 2.0 TDI Multitronic  Coimbatore  2013              40670   \n",
       "\n",
       "  Fuel_Type Transmission Owner_Type     Mileage   Engine      Power  Seats  \\\n",
       "0       CNG       Manual      First  26.6 km/kg   998 CC  58.16 bhp    5.0   \n",
       "1    Diesel       Manual      First  19.67 kmpl  1582 CC  126.2 bhp    5.0   \n",
       "2    Petrol       Manual      First   18.2 kmpl  1199 CC   88.7 bhp    5.0   \n",
       "3    Diesel       Manual      First  20.77 kmpl  1248 CC  88.76 bhp    7.0   \n",
       "4    Diesel    Automatic     Second   15.2 kmpl  1968 CC  140.8 bhp    5.0   \n",
       "\n",
       "   Price cleanEngine cleanPower cleanMileage  \n",
       "0   1.75         998      58.16         26.6  \n",
       "1  12.50        1582      126.2        19.67  \n",
       "2   4.50        1199       88.7         18.2  \n",
       "3   6.00        1248      88.76        20.77  \n",
       "4  17.74        1968      140.8         15.2  "
      ]
     },
     "execution_count": 22,
     "metadata": {},
     "output_type": "execute_result"
    }
   ],
   "source": [
    "data.head(5)"
   ]
  },
  {
   "cell_type": "markdown",
   "metadata": {},
   "source": [
    "# Checking data type of all columns"
   ]
  },
  {
   "cell_type": "code",
   "execution_count": 23,
   "metadata": {},
   "outputs": [
    {
     "data": {
      "text/plain": [
       "Name                  object\n",
       "Location              object\n",
       "Year                   int64\n",
       "Kilometers_Driven      int64\n",
       "Fuel_Type             object\n",
       "Transmission          object\n",
       "Owner_Type            object\n",
       "Mileage               object\n",
       "Engine                object\n",
       "Power                 object\n",
       "Seats                float64\n",
       "Price                float64\n",
       "cleanEngine           object\n",
       "cleanPower            object\n",
       "cleanMileage          object\n",
       "dtype: object"
      ]
     },
     "execution_count": 23,
     "metadata": {},
     "output_type": "execute_result"
    }
   ],
   "source": [
    "data.dtypes"
   ]
  },
  {
   "cell_type": "markdown",
   "metadata": {},
   "source": [
    "# Changing data type of cleanMileage and cleanEngine column from object to    numeric"
   ]
  },
  {
   "cell_type": "code",
   "execution_count": 24,
   "metadata": {},
   "outputs": [],
   "source": [
    "data[\"cleanMileage\"] = pd.to_numeric(data[\"cleanMileage\"])\n",
    "\n",
    "data[\"cleanEngine\"] = pd.to_numeric(data[\"cleanEngine\"])"
   ]
  },
  {
   "cell_type": "code",
   "execution_count": 25,
   "metadata": {},
   "outputs": [
    {
     "data": {
      "text/plain": [
       "Name                  object\n",
       "Location              object\n",
       "Year                   int64\n",
       "Kilometers_Driven      int64\n",
       "Fuel_Type             object\n",
       "Transmission          object\n",
       "Owner_Type            object\n",
       "Mileage               object\n",
       "Engine                object\n",
       "Power                 object\n",
       "Seats                float64\n",
       "Price                float64\n",
       "cleanEngine          float64\n",
       "cleanPower            object\n",
       "cleanMileage         float64\n",
       "dtype: object"
      ]
     },
     "execution_count": 25,
     "metadata": {},
     "output_type": "execute_result"
    }
   ],
   "source": [
    "data.dtypes"
   ]
  },
  {
   "cell_type": "markdown",
   "metadata": {},
   "source": [
    "# Replacing \"null\" values in Power column with 0.0"
   ]
  },
  {
   "cell_type": "code",
   "execution_count": 26,
   "metadata": {},
   "outputs": [],
   "source": [
    "data[\"cleanPower\"].replace({\"null\": \"0.0\",}, inplace=True)"
   ]
  },
  {
   "cell_type": "markdown",
   "metadata": {},
   "source": [
    "# Changing data type of cleanPower column from object to numeric"
   ]
  },
  {
   "cell_type": "code",
   "execution_count": 27,
   "metadata": {},
   "outputs": [],
   "source": [
    "data[\"cleanPower\"] = pd.to_numeric(data[\"cleanPower\"])"
   ]
  },
  {
   "cell_type": "code",
   "execution_count": 28,
   "metadata": {},
   "outputs": [
    {
     "data": {
      "text/html": [
       "<div>\n",
       "<style scoped>\n",
       "    .dataframe tbody tr th:only-of-type {\n",
       "        vertical-align: middle;\n",
       "    }\n",
       "\n",
       "    .dataframe tbody tr th {\n",
       "        vertical-align: top;\n",
       "    }\n",
       "\n",
       "    .dataframe thead th {\n",
       "        text-align: right;\n",
       "    }\n",
       "</style>\n",
       "<table border=\"1\" class=\"dataframe\">\n",
       "  <thead>\n",
       "    <tr style=\"text-align: right;\">\n",
       "      <th></th>\n",
       "      <th>Name</th>\n",
       "      <th>Location</th>\n",
       "      <th>Year</th>\n",
       "      <th>Kilometers_Driven</th>\n",
       "      <th>Fuel_Type</th>\n",
       "      <th>Transmission</th>\n",
       "      <th>Owner_Type</th>\n",
       "      <th>Mileage</th>\n",
       "      <th>Engine</th>\n",
       "      <th>Power</th>\n",
       "      <th>Seats</th>\n",
       "      <th>Price</th>\n",
       "      <th>cleanEngine</th>\n",
       "      <th>cleanPower</th>\n",
       "      <th>cleanMileage</th>\n",
       "    </tr>\n",
       "  </thead>\n",
       "  <tbody>\n",
       "    <tr>\n",
       "      <th>0</th>\n",
       "      <td>Maruti Wagon R LXI CNG</td>\n",
       "      <td>Mumbai</td>\n",
       "      <td>2010</td>\n",
       "      <td>72000</td>\n",
       "      <td>CNG</td>\n",
       "      <td>Manual</td>\n",
       "      <td>First</td>\n",
       "      <td>26.6 km/kg</td>\n",
       "      <td>998 CC</td>\n",
       "      <td>58.16 bhp</td>\n",
       "      <td>5.0</td>\n",
       "      <td>1.75</td>\n",
       "      <td>998.0</td>\n",
       "      <td>58.16</td>\n",
       "      <td>26.60</td>\n",
       "    </tr>\n",
       "    <tr>\n",
       "      <th>1</th>\n",
       "      <td>Hyundai Creta 1.6 CRDi SX Option</td>\n",
       "      <td>Pune</td>\n",
       "      <td>2015</td>\n",
       "      <td>41000</td>\n",
       "      <td>Diesel</td>\n",
       "      <td>Manual</td>\n",
       "      <td>First</td>\n",
       "      <td>19.67 kmpl</td>\n",
       "      <td>1582 CC</td>\n",
       "      <td>126.2 bhp</td>\n",
       "      <td>5.0</td>\n",
       "      <td>12.50</td>\n",
       "      <td>1582.0</td>\n",
       "      <td>126.20</td>\n",
       "      <td>19.67</td>\n",
       "    </tr>\n",
       "    <tr>\n",
       "      <th>2</th>\n",
       "      <td>Honda Jazz V</td>\n",
       "      <td>Chennai</td>\n",
       "      <td>2011</td>\n",
       "      <td>46000</td>\n",
       "      <td>Petrol</td>\n",
       "      <td>Manual</td>\n",
       "      <td>First</td>\n",
       "      <td>18.2 kmpl</td>\n",
       "      <td>1199 CC</td>\n",
       "      <td>88.7 bhp</td>\n",
       "      <td>5.0</td>\n",
       "      <td>4.50</td>\n",
       "      <td>1199.0</td>\n",
       "      <td>88.70</td>\n",
       "      <td>18.20</td>\n",
       "    </tr>\n",
       "    <tr>\n",
       "      <th>3</th>\n",
       "      <td>Maruti Ertiga VDI</td>\n",
       "      <td>Chennai</td>\n",
       "      <td>2012</td>\n",
       "      <td>87000</td>\n",
       "      <td>Diesel</td>\n",
       "      <td>Manual</td>\n",
       "      <td>First</td>\n",
       "      <td>20.77 kmpl</td>\n",
       "      <td>1248 CC</td>\n",
       "      <td>88.76 bhp</td>\n",
       "      <td>7.0</td>\n",
       "      <td>6.00</td>\n",
       "      <td>1248.0</td>\n",
       "      <td>88.76</td>\n",
       "      <td>20.77</td>\n",
       "    </tr>\n",
       "    <tr>\n",
       "      <th>4</th>\n",
       "      <td>Audi A4 New 2.0 TDI Multitronic</td>\n",
       "      <td>Coimbatore</td>\n",
       "      <td>2013</td>\n",
       "      <td>40670</td>\n",
       "      <td>Diesel</td>\n",
       "      <td>Automatic</td>\n",
       "      <td>Second</td>\n",
       "      <td>15.2 kmpl</td>\n",
       "      <td>1968 CC</td>\n",
       "      <td>140.8 bhp</td>\n",
       "      <td>5.0</td>\n",
       "      <td>17.74</td>\n",
       "      <td>1968.0</td>\n",
       "      <td>140.80</td>\n",
       "      <td>15.20</td>\n",
       "    </tr>\n",
       "    <tr>\n",
       "      <th>5</th>\n",
       "      <td>Hyundai EON LPG Era Plus Option</td>\n",
       "      <td>Hyderabad</td>\n",
       "      <td>2012</td>\n",
       "      <td>75000</td>\n",
       "      <td>LPG</td>\n",
       "      <td>Manual</td>\n",
       "      <td>First</td>\n",
       "      <td>21.1 km/kg</td>\n",
       "      <td>814 CC</td>\n",
       "      <td>55.2 bhp</td>\n",
       "      <td>5.0</td>\n",
       "      <td>2.35</td>\n",
       "      <td>814.0</td>\n",
       "      <td>55.20</td>\n",
       "      <td>21.10</td>\n",
       "    </tr>\n",
       "    <tr>\n",
       "      <th>6</th>\n",
       "      <td>Nissan Micra Diesel XV</td>\n",
       "      <td>Jaipur</td>\n",
       "      <td>2013</td>\n",
       "      <td>86999</td>\n",
       "      <td>Diesel</td>\n",
       "      <td>Manual</td>\n",
       "      <td>First</td>\n",
       "      <td>23.08 kmpl</td>\n",
       "      <td>1461 CC</td>\n",
       "      <td>63.1 bhp</td>\n",
       "      <td>5.0</td>\n",
       "      <td>3.50</td>\n",
       "      <td>1461.0</td>\n",
       "      <td>63.10</td>\n",
       "      <td>23.08</td>\n",
       "    </tr>\n",
       "    <tr>\n",
       "      <th>7</th>\n",
       "      <td>Toyota Innova Crysta 2.8 GX AT 8S</td>\n",
       "      <td>Mumbai</td>\n",
       "      <td>2016</td>\n",
       "      <td>36000</td>\n",
       "      <td>Diesel</td>\n",
       "      <td>Automatic</td>\n",
       "      <td>First</td>\n",
       "      <td>11.36 kmpl</td>\n",
       "      <td>2755 CC</td>\n",
       "      <td>171.5 bhp</td>\n",
       "      <td>8.0</td>\n",
       "      <td>17.50</td>\n",
       "      <td>2755.0</td>\n",
       "      <td>171.50</td>\n",
       "      <td>11.36</td>\n",
       "    </tr>\n",
       "    <tr>\n",
       "      <th>8</th>\n",
       "      <td>Volkswagen Vento Diesel Comfortline</td>\n",
       "      <td>Pune</td>\n",
       "      <td>2013</td>\n",
       "      <td>64430</td>\n",
       "      <td>Diesel</td>\n",
       "      <td>Manual</td>\n",
       "      <td>First</td>\n",
       "      <td>20.54 kmpl</td>\n",
       "      <td>1598 CC</td>\n",
       "      <td>103.6 bhp</td>\n",
       "      <td>5.0</td>\n",
       "      <td>5.20</td>\n",
       "      <td>1598.0</td>\n",
       "      <td>103.60</td>\n",
       "      <td>20.54</td>\n",
       "    </tr>\n",
       "    <tr>\n",
       "      <th>9</th>\n",
       "      <td>Tata Indica Vista Quadrajet LS</td>\n",
       "      <td>Chennai</td>\n",
       "      <td>2012</td>\n",
       "      <td>65932</td>\n",
       "      <td>Diesel</td>\n",
       "      <td>Manual</td>\n",
       "      <td>Second</td>\n",
       "      <td>22.3 kmpl</td>\n",
       "      <td>1248 CC</td>\n",
       "      <td>74 bhp</td>\n",
       "      <td>5.0</td>\n",
       "      <td>1.95</td>\n",
       "      <td>1248.0</td>\n",
       "      <td>74.00</td>\n",
       "      <td>22.30</td>\n",
       "    </tr>\n",
       "  </tbody>\n",
       "</table>\n",
       "</div>"
      ],
      "text/plain": [
       "                                  Name    Location  Year  Kilometers_Driven  \\\n",
       "0               Maruti Wagon R LXI CNG      Mumbai  2010              72000   \n",
       "1     Hyundai Creta 1.6 CRDi SX Option        Pune  2015              41000   \n",
       "2                         Honda Jazz V     Chennai  2011              46000   \n",
       "3                    Maruti Ertiga VDI     Chennai  2012              87000   \n",
       "4      Audi A4 New 2.0 TDI Multitronic  Coimbatore  2013              40670   \n",
       "5      Hyundai EON LPG Era Plus Option   Hyderabad  2012              75000   \n",
       "6               Nissan Micra Diesel XV      Jaipur  2013              86999   \n",
       "7    Toyota Innova Crysta 2.8 GX AT 8S      Mumbai  2016              36000   \n",
       "8  Volkswagen Vento Diesel Comfortline        Pune  2013              64430   \n",
       "9       Tata Indica Vista Quadrajet LS     Chennai  2012              65932   \n",
       "\n",
       "  Fuel_Type Transmission Owner_Type     Mileage   Engine      Power  Seats  \\\n",
       "0       CNG       Manual      First  26.6 km/kg   998 CC  58.16 bhp    5.0   \n",
       "1    Diesel       Manual      First  19.67 kmpl  1582 CC  126.2 bhp    5.0   \n",
       "2    Petrol       Manual      First   18.2 kmpl  1199 CC   88.7 bhp    5.0   \n",
       "3    Diesel       Manual      First  20.77 kmpl  1248 CC  88.76 bhp    7.0   \n",
       "4    Diesel    Automatic     Second   15.2 kmpl  1968 CC  140.8 bhp    5.0   \n",
       "5       LPG       Manual      First  21.1 km/kg   814 CC   55.2 bhp    5.0   \n",
       "6    Diesel       Manual      First  23.08 kmpl  1461 CC   63.1 bhp    5.0   \n",
       "7    Diesel    Automatic      First  11.36 kmpl  2755 CC  171.5 bhp    8.0   \n",
       "8    Diesel       Manual      First  20.54 kmpl  1598 CC  103.6 bhp    5.0   \n",
       "9    Diesel       Manual     Second   22.3 kmpl  1248 CC     74 bhp    5.0   \n",
       "\n",
       "   Price  cleanEngine  cleanPower  cleanMileage  \n",
       "0   1.75        998.0       58.16         26.60  \n",
       "1  12.50       1582.0      126.20         19.67  \n",
       "2   4.50       1199.0       88.70         18.20  \n",
       "3   6.00       1248.0       88.76         20.77  \n",
       "4  17.74       1968.0      140.80         15.20  \n",
       "5   2.35        814.0       55.20         21.10  \n",
       "6   3.50       1461.0       63.10         23.08  \n",
       "7  17.50       2755.0      171.50         11.36  \n",
       "8   5.20       1598.0      103.60         20.54  \n",
       "9   1.95       1248.0       74.00         22.30  "
      ]
     },
     "execution_count": 28,
     "metadata": {},
     "output_type": "execute_result"
    }
   ],
   "source": [
    "data.head(10)"
   ]
  },
  {
   "cell_type": "markdown",
   "metadata": {},
   "source": [
    "# Getting average value of each column"
   ]
  },
  {
   "cell_type": "code",
   "execution_count": 29,
   "metadata": {},
   "outputs": [
    {
     "data": {
      "text/plain": [
       "Year                  2013.358199\n",
       "Kilometers_Driven    58738.380296\n",
       "Seats                    5.255856\n",
       "Price                    9.479468\n",
       "cleanEngine           1621.276450\n",
       "cleanPower             111.227632\n",
       "cleanMileage            18.134961\n",
       "dtype: float64"
      ]
     },
     "execution_count": 29,
     "metadata": {},
     "output_type": "execute_result"
    }
   ],
   "source": [
    "data.mean(axis=0)"
   ]
  },
  {
   "cell_type": "markdown",
   "metadata": {},
   "source": [
    "# Calculating number of null values in each column"
   ]
  },
  {
   "cell_type": "code",
   "execution_count": 30,
   "metadata": {},
   "outputs": [
    {
     "data": {
      "text/plain": [
       "Name                  0\n",
       "Location              0\n",
       "Year                  0\n",
       "Kilometers_Driven     0\n",
       "Fuel_Type             0\n",
       "Transmission          0\n",
       "Owner_Type            0\n",
       "Mileage               2\n",
       "Engine               36\n",
       "Power                36\n",
       "Seats                 0\n",
       "Price                 0\n",
       "cleanEngine          36\n",
       "cleanPower           36\n",
       "cleanMileage          2\n",
       "dtype: int64"
      ]
     },
     "execution_count": 30,
     "metadata": {},
     "output_type": "execute_result"
    }
   ],
   "source": [
    "data.isnull().sum()"
   ]
  },
  {
   "cell_type": "markdown",
   "metadata": {},
   "source": [
    "# filling null values of cleanEngine column"
   ]
  },
  {
   "cell_type": "code",
   "execution_count": 31,
   "metadata": {},
   "outputs": [],
   "source": [
    "data[\"cleanEngine\"].fillna(1621.276, inplace = True)"
   ]
  },
  {
   "cell_type": "markdown",
   "metadata": {},
   "source": [
    "# filling null values of cleanMileage column"
   ]
  },
  {
   "cell_type": "code",
   "execution_count": 32,
   "metadata": {},
   "outputs": [],
   "source": [
    "data[\"cleanMileage\"].fillna(18.134, inplace = True)"
   ]
  },
  {
   "cell_type": "markdown",
   "metadata": {},
   "source": [
    "# filling null or zero values of cleanPower column"
   ]
  },
  {
   "cell_type": "code",
   "execution_count": 33,
   "metadata": {},
   "outputs": [],
   "source": [
    "data[\"cleanPower\"].replace({0.0: 111.227,}, inplace=True)"
   ]
  },
  {
   "cell_type": "code",
   "execution_count": 34,
   "metadata": {},
   "outputs": [],
   "source": [
    "data[\"cleanPower\"].fillna(111.227, inplace = True)"
   ]
  },
  {
   "cell_type": "markdown",
   "metadata": {},
   "source": [
    "# Again checking number of null value in each column"
   ]
  },
  {
   "cell_type": "code",
   "execution_count": 35,
   "metadata": {},
   "outputs": [
    {
     "data": {
      "text/plain": [
       "Name                  0\n",
       "Location              0\n",
       "Year                  0\n",
       "Kilometers_Driven     0\n",
       "Fuel_Type             0\n",
       "Transmission          0\n",
       "Owner_Type            0\n",
       "Mileage               2\n",
       "Engine               36\n",
       "Power                36\n",
       "Seats                 0\n",
       "Price                 0\n",
       "cleanEngine           0\n",
       "cleanPower            0\n",
       "cleanMileage          0\n",
       "dtype: int64"
      ]
     },
     "execution_count": 35,
     "metadata": {},
     "output_type": "execute_result"
    }
   ],
   "source": [
    "data.isnull().sum()"
   ]
  },
  {
   "cell_type": "markdown",
   "metadata": {},
   "source": [
    "# cleaning name of cars"
   ]
  },
  {
   "cell_type": "markdown",
   "metadata": {},
   "source": [
    "# 1. By car company"
   ]
  },
  {
   "cell_type": "code",
   "execution_count": 36,
   "metadata": {},
   "outputs": [],
   "source": [
    "carCompany = (data.Name.str.split(' ').str[0])"
   ]
  },
  {
   "cell_type": "markdown",
   "metadata": {},
   "source": [
    "# Adding carCompany column in the dataset"
   ]
  },
  {
   "cell_type": "code",
   "execution_count": 37,
   "metadata": {},
   "outputs": [],
   "source": [
    "data['carCompany'] = carCompany "
   ]
  },
  {
   "cell_type": "markdown",
   "metadata": {},
   "source": [
    "# Checking unique car companys in the dataset"
   ]
  },
  {
   "cell_type": "code",
   "execution_count": 38,
   "metadata": {},
   "outputs": [],
   "source": [
    "uniqueCarCompany = data.carCompany.unique()"
   ]
  },
  {
   "cell_type": "code",
   "execution_count": 39,
   "metadata": {},
   "outputs": [
    {
     "data": {
      "text/plain": [
       "31"
      ]
     },
     "execution_count": 39,
     "metadata": {},
     "output_type": "execute_result"
    }
   ],
   "source": [
    "uniqueCarCompany.size"
   ]
  },
  {
   "cell_type": "code",
   "execution_count": 40,
   "metadata": {},
   "outputs": [
    {
     "data": {
      "text/html": [
       "<div>\n",
       "<style scoped>\n",
       "    .dataframe tbody tr th:only-of-type {\n",
       "        vertical-align: middle;\n",
       "    }\n",
       "\n",
       "    .dataframe tbody tr th {\n",
       "        vertical-align: top;\n",
       "    }\n",
       "\n",
       "    .dataframe thead th {\n",
       "        text-align: right;\n",
       "    }\n",
       "</style>\n",
       "<table border=\"1\" class=\"dataframe\">\n",
       "  <thead>\n",
       "    <tr style=\"text-align: right;\">\n",
       "      <th></th>\n",
       "      <th>Name</th>\n",
       "      <th>Location</th>\n",
       "      <th>Year</th>\n",
       "      <th>Kilometers_Driven</th>\n",
       "      <th>Fuel_Type</th>\n",
       "      <th>Transmission</th>\n",
       "      <th>Owner_Type</th>\n",
       "      <th>Mileage</th>\n",
       "      <th>Engine</th>\n",
       "      <th>Power</th>\n",
       "      <th>Seats</th>\n",
       "      <th>Price</th>\n",
       "      <th>cleanEngine</th>\n",
       "      <th>cleanPower</th>\n",
       "      <th>cleanMileage</th>\n",
       "      <th>carCompany</th>\n",
       "    </tr>\n",
       "  </thead>\n",
       "  <tbody>\n",
       "    <tr>\n",
       "      <th>0</th>\n",
       "      <td>Maruti Wagon R LXI CNG</td>\n",
       "      <td>Mumbai</td>\n",
       "      <td>2010</td>\n",
       "      <td>72000</td>\n",
       "      <td>CNG</td>\n",
       "      <td>Manual</td>\n",
       "      <td>First</td>\n",
       "      <td>26.6 km/kg</td>\n",
       "      <td>998 CC</td>\n",
       "      <td>58.16 bhp</td>\n",
       "      <td>5.0</td>\n",
       "      <td>1.75</td>\n",
       "      <td>998.0</td>\n",
       "      <td>58.16</td>\n",
       "      <td>26.60</td>\n",
       "      <td>Maruti</td>\n",
       "    </tr>\n",
       "    <tr>\n",
       "      <th>1</th>\n",
       "      <td>Hyundai Creta 1.6 CRDi SX Option</td>\n",
       "      <td>Pune</td>\n",
       "      <td>2015</td>\n",
       "      <td>41000</td>\n",
       "      <td>Diesel</td>\n",
       "      <td>Manual</td>\n",
       "      <td>First</td>\n",
       "      <td>19.67 kmpl</td>\n",
       "      <td>1582 CC</td>\n",
       "      <td>126.2 bhp</td>\n",
       "      <td>5.0</td>\n",
       "      <td>12.50</td>\n",
       "      <td>1582.0</td>\n",
       "      <td>126.20</td>\n",
       "      <td>19.67</td>\n",
       "      <td>Hyundai</td>\n",
       "    </tr>\n",
       "    <tr>\n",
       "      <th>2</th>\n",
       "      <td>Honda Jazz V</td>\n",
       "      <td>Chennai</td>\n",
       "      <td>2011</td>\n",
       "      <td>46000</td>\n",
       "      <td>Petrol</td>\n",
       "      <td>Manual</td>\n",
       "      <td>First</td>\n",
       "      <td>18.2 kmpl</td>\n",
       "      <td>1199 CC</td>\n",
       "      <td>88.7 bhp</td>\n",
       "      <td>5.0</td>\n",
       "      <td>4.50</td>\n",
       "      <td>1199.0</td>\n",
       "      <td>88.70</td>\n",
       "      <td>18.20</td>\n",
       "      <td>Honda</td>\n",
       "    </tr>\n",
       "    <tr>\n",
       "      <th>3</th>\n",
       "      <td>Maruti Ertiga VDI</td>\n",
       "      <td>Chennai</td>\n",
       "      <td>2012</td>\n",
       "      <td>87000</td>\n",
       "      <td>Diesel</td>\n",
       "      <td>Manual</td>\n",
       "      <td>First</td>\n",
       "      <td>20.77 kmpl</td>\n",
       "      <td>1248 CC</td>\n",
       "      <td>88.76 bhp</td>\n",
       "      <td>7.0</td>\n",
       "      <td>6.00</td>\n",
       "      <td>1248.0</td>\n",
       "      <td>88.76</td>\n",
       "      <td>20.77</td>\n",
       "      <td>Maruti</td>\n",
       "    </tr>\n",
       "    <tr>\n",
       "      <th>4</th>\n",
       "      <td>Audi A4 New 2.0 TDI Multitronic</td>\n",
       "      <td>Coimbatore</td>\n",
       "      <td>2013</td>\n",
       "      <td>40670</td>\n",
       "      <td>Diesel</td>\n",
       "      <td>Automatic</td>\n",
       "      <td>Second</td>\n",
       "      <td>15.2 kmpl</td>\n",
       "      <td>1968 CC</td>\n",
       "      <td>140.8 bhp</td>\n",
       "      <td>5.0</td>\n",
       "      <td>17.74</td>\n",
       "      <td>1968.0</td>\n",
       "      <td>140.80</td>\n",
       "      <td>15.20</td>\n",
       "      <td>Audi</td>\n",
       "    </tr>\n",
       "    <tr>\n",
       "      <th>5</th>\n",
       "      <td>Hyundai EON LPG Era Plus Option</td>\n",
       "      <td>Hyderabad</td>\n",
       "      <td>2012</td>\n",
       "      <td>75000</td>\n",
       "      <td>LPG</td>\n",
       "      <td>Manual</td>\n",
       "      <td>First</td>\n",
       "      <td>21.1 km/kg</td>\n",
       "      <td>814 CC</td>\n",
       "      <td>55.2 bhp</td>\n",
       "      <td>5.0</td>\n",
       "      <td>2.35</td>\n",
       "      <td>814.0</td>\n",
       "      <td>55.20</td>\n",
       "      <td>21.10</td>\n",
       "      <td>Hyundai</td>\n",
       "    </tr>\n",
       "    <tr>\n",
       "      <th>6</th>\n",
       "      <td>Nissan Micra Diesel XV</td>\n",
       "      <td>Jaipur</td>\n",
       "      <td>2013</td>\n",
       "      <td>86999</td>\n",
       "      <td>Diesel</td>\n",
       "      <td>Manual</td>\n",
       "      <td>First</td>\n",
       "      <td>23.08 kmpl</td>\n",
       "      <td>1461 CC</td>\n",
       "      <td>63.1 bhp</td>\n",
       "      <td>5.0</td>\n",
       "      <td>3.50</td>\n",
       "      <td>1461.0</td>\n",
       "      <td>63.10</td>\n",
       "      <td>23.08</td>\n",
       "      <td>Nissan</td>\n",
       "    </tr>\n",
       "    <tr>\n",
       "      <th>7</th>\n",
       "      <td>Toyota Innova Crysta 2.8 GX AT 8S</td>\n",
       "      <td>Mumbai</td>\n",
       "      <td>2016</td>\n",
       "      <td>36000</td>\n",
       "      <td>Diesel</td>\n",
       "      <td>Automatic</td>\n",
       "      <td>First</td>\n",
       "      <td>11.36 kmpl</td>\n",
       "      <td>2755 CC</td>\n",
       "      <td>171.5 bhp</td>\n",
       "      <td>8.0</td>\n",
       "      <td>17.50</td>\n",
       "      <td>2755.0</td>\n",
       "      <td>171.50</td>\n",
       "      <td>11.36</td>\n",
       "      <td>Toyota</td>\n",
       "    </tr>\n",
       "    <tr>\n",
       "      <th>8</th>\n",
       "      <td>Volkswagen Vento Diesel Comfortline</td>\n",
       "      <td>Pune</td>\n",
       "      <td>2013</td>\n",
       "      <td>64430</td>\n",
       "      <td>Diesel</td>\n",
       "      <td>Manual</td>\n",
       "      <td>First</td>\n",
       "      <td>20.54 kmpl</td>\n",
       "      <td>1598 CC</td>\n",
       "      <td>103.6 bhp</td>\n",
       "      <td>5.0</td>\n",
       "      <td>5.20</td>\n",
       "      <td>1598.0</td>\n",
       "      <td>103.60</td>\n",
       "      <td>20.54</td>\n",
       "      <td>Volkswagen</td>\n",
       "    </tr>\n",
       "    <tr>\n",
       "      <th>9</th>\n",
       "      <td>Tata Indica Vista Quadrajet LS</td>\n",
       "      <td>Chennai</td>\n",
       "      <td>2012</td>\n",
       "      <td>65932</td>\n",
       "      <td>Diesel</td>\n",
       "      <td>Manual</td>\n",
       "      <td>Second</td>\n",
       "      <td>22.3 kmpl</td>\n",
       "      <td>1248 CC</td>\n",
       "      <td>74 bhp</td>\n",
       "      <td>5.0</td>\n",
       "      <td>1.95</td>\n",
       "      <td>1248.0</td>\n",
       "      <td>74.00</td>\n",
       "      <td>22.30</td>\n",
       "      <td>Tata</td>\n",
       "    </tr>\n",
       "  </tbody>\n",
       "</table>\n",
       "</div>"
      ],
      "text/plain": [
       "                                  Name    Location  Year  Kilometers_Driven  \\\n",
       "0               Maruti Wagon R LXI CNG      Mumbai  2010              72000   \n",
       "1     Hyundai Creta 1.6 CRDi SX Option        Pune  2015              41000   \n",
       "2                         Honda Jazz V     Chennai  2011              46000   \n",
       "3                    Maruti Ertiga VDI     Chennai  2012              87000   \n",
       "4      Audi A4 New 2.0 TDI Multitronic  Coimbatore  2013              40670   \n",
       "5      Hyundai EON LPG Era Plus Option   Hyderabad  2012              75000   \n",
       "6               Nissan Micra Diesel XV      Jaipur  2013              86999   \n",
       "7    Toyota Innova Crysta 2.8 GX AT 8S      Mumbai  2016              36000   \n",
       "8  Volkswagen Vento Diesel Comfortline        Pune  2013              64430   \n",
       "9       Tata Indica Vista Quadrajet LS     Chennai  2012              65932   \n",
       "\n",
       "  Fuel_Type Transmission Owner_Type     Mileage   Engine      Power  Seats  \\\n",
       "0       CNG       Manual      First  26.6 km/kg   998 CC  58.16 bhp    5.0   \n",
       "1    Diesel       Manual      First  19.67 kmpl  1582 CC  126.2 bhp    5.0   \n",
       "2    Petrol       Manual      First   18.2 kmpl  1199 CC   88.7 bhp    5.0   \n",
       "3    Diesel       Manual      First  20.77 kmpl  1248 CC  88.76 bhp    7.0   \n",
       "4    Diesel    Automatic     Second   15.2 kmpl  1968 CC  140.8 bhp    5.0   \n",
       "5       LPG       Manual      First  21.1 km/kg   814 CC   55.2 bhp    5.0   \n",
       "6    Diesel       Manual      First  23.08 kmpl  1461 CC   63.1 bhp    5.0   \n",
       "7    Diesel    Automatic      First  11.36 kmpl  2755 CC  171.5 bhp    8.0   \n",
       "8    Diesel       Manual      First  20.54 kmpl  1598 CC  103.6 bhp    5.0   \n",
       "9    Diesel       Manual     Second   22.3 kmpl  1248 CC     74 bhp    5.0   \n",
       "\n",
       "   Price  cleanEngine  cleanPower  cleanMileage  carCompany  \n",
       "0   1.75        998.0       58.16         26.60      Maruti  \n",
       "1  12.50       1582.0      126.20         19.67     Hyundai  \n",
       "2   4.50       1199.0       88.70         18.20       Honda  \n",
       "3   6.00       1248.0       88.76         20.77      Maruti  \n",
       "4  17.74       1968.0      140.80         15.20        Audi  \n",
       "5   2.35        814.0       55.20         21.10     Hyundai  \n",
       "6   3.50       1461.0       63.10         23.08      Nissan  \n",
       "7  17.50       2755.0      171.50         11.36      Toyota  \n",
       "8   5.20       1598.0      103.60         20.54  Volkswagen  \n",
       "9   1.95       1248.0       74.00         22.30        Tata  "
      ]
     },
     "execution_count": 40,
     "metadata": {},
     "output_type": "execute_result"
    }
   ],
   "source": [
    "data.head(10)"
   ]
  },
  {
   "cell_type": "markdown",
   "metadata": {},
   "source": [
    "# 2. By car model"
   ]
  },
  {
   "cell_type": "code",
   "execution_count": 41,
   "metadata": {},
   "outputs": [],
   "source": [
    "carModel = (data.Name.str.split(' ').str[1:])"
   ]
  },
  {
   "cell_type": "code",
   "execution_count": 42,
   "metadata": {},
   "outputs": [
    {
     "data": {
      "text/plain": [
       "0                   [Wagon, R, LXI, CNG]\n",
       "1         [Creta, 1.6, CRDi, SX, Option]\n",
       "2                              [Jazz, V]\n",
       "3                          [Ertiga, VDI]\n",
       "4       [A4, New, 2.0, TDI, Multitronic]\n",
       "                      ...               \n",
       "6014                        [Swift, VDI]\n",
       "6015               [Xcent, 1.1, CRDi, S]\n",
       "6016                    [Xylo, D4, BSIV]\n",
       "6017                     [Wagon, R, VXI]\n",
       "6018                      [Beat, Diesel]\n",
       "Name: Name, Length: 6019, dtype: object"
      ]
     },
     "execution_count": 42,
     "metadata": {},
     "output_type": "execute_result"
    }
   ],
   "source": [
    "carModel"
   ]
  },
  {
   "cell_type": "markdown",
   "metadata": {},
   "source": [
    "# Combining elements of each list to form the meaningful car model name"
   ]
  },
  {
   "cell_type": "code",
   "execution_count": 43,
   "metadata": {},
   "outputs": [],
   "source": [
    "Model = []\n",
    "\n",
    "for items in carModel:\n",
    "    tempstr = \"\"\n",
    "    for i in range(0,len(items)):\n",
    "        if(i == 0):\n",
    "                   tempstr = tempstr + items[i]\n",
    "        else:\n",
    "                   tempstr = tempstr + \" \" + items[i]\n",
    "        \n",
    "    Model.append(tempstr)\n",
    "        "
   ]
  },
  {
   "cell_type": "code",
   "execution_count": 44,
   "metadata": {},
   "outputs": [
    {
     "data": {
      "text/plain": [
       "['Wagon R LXI CNG',\n",
       " 'Creta 1.6 CRDi SX Option',\n",
       " 'Jazz V',\n",
       " 'Ertiga VDI',\n",
       " 'A4 New 2.0 TDI Multitronic',\n",
       " 'EON LPG Era Plus Option',\n",
       " 'Micra Diesel XV',\n",
       " 'Innova Crysta 2.8 GX AT 8S',\n",
       " 'Vento Diesel Comfortline',\n",
       " 'Indica Vista Quadrajet LS',\n",
       " 'Ciaz Zeta',\n",
       " 'City 1.5 V AT Sunroof',\n",
       " 'Swift VDI BSIV',\n",
       " 'Rover Range Rover 2.2L Pure',\n",
       " 'Rover Freelander 2 TD4 SE',\n",
       " 'Pajero Sport 4X4',\n",
       " 'Amaze S i-Dtech',\n",
       " 'Swift DDiS VDI',\n",
       " 'Duster 85PS Diesel RxL Plus',\n",
       " 'New C-Class C 220 CDI BE Avantgare',\n",
       " '3 Series 320d',\n",
       " 'S Cross DDiS 200 Alpha',\n",
       " 'A6 2011-2015 35 TFSI Technology',\n",
       " 'i20 1.2 Magna',\n",
       " 'Vento Petrol Highline AT',\n",
       " 'City Corporate Edition',\n",
       " 'Micra Diesel XV',\n",
       " 'Alto K10 2010-2014 VXI',\n",
       " 'WRV i-VTEC VX',\n",
       " 'Innova 2.5 V Diesel 7-seater',\n",
       " 'Duster 110PS Diesel RxZ Pack',\n",
       " 'Corolla Altis G',\n",
       " 'Ssangyong Rexton RX7',\n",
       " 'A6 2.7 TDI',\n",
       " 'Vento 1.6 Highline',\n",
       " 'Wagon R LXI BSIII',\n",
       " 'Vitara Brezza ZDi Plus',\n",
       " 'KUV 100 mFALCON G80 K6 5str AW',\n",
       " 'M-Class ML 350 CDI',\n",
       " 'Polo Diesel Trendline 1.2L',\n",
       " 'Alto LXi',\n",
       " 'Nano LX SE',\n",
       " 'KUV 100 mFALCON D75 K8 Dual Tone',\n",
       " 'i20 Magna Optional 1.2',\n",
       " 'Elantra 2.0 SX Option AT',\n",
       " 'Corolla Altis G AT',\n",
       " 'Elantra CRDi',\n",
       " 'Innova Crysta 2.7 GX MT',\n",
       " 'Xcent 1.1 CRDi S',\n",
       " 'Thar CRDe AC',\n",
       " 'A4 2.0 TDI 177 Bhp Premium Plus',\n",
       " 'Swift LDI',\n",
       " 'Swift Ldi BSIV',\n",
       " 'Swift VDI',\n",
       " 'Grand i10 Sportz',\n",
       " 'Vento 2013-2015 1.6 Comfortline',\n",
       " 'KWID RXT',\n",
       " 'i10 Asta',\n",
       " 'X-Trail SLX AT',\n",
       " 'Zen Estilo VXI BSIII',\n",
       " 'Innova Crysta 2.4 GX MT 8S',\n",
       " 'Figo Diesel Titanium',\n",
       " 'New C-Class C 200 CGI Avantgarde',\n",
       " 'New C-Class 200 CDI Classic',\n",
       " 'Indica V2 eLS',\n",
       " 'A4 2.0 TDI Multitronic',\n",
       " 'City ZX CVT',\n",
       " 'C-Class Progressive C 220d',\n",
       " 'Ertiga SHVS VDI',\n",
       " 'Creta 1.4 E Plus Diesel',\n",
       " 'Cayenne 2009-2014 Turbo',\n",
       " 'XUV500 W8 4WD',\n",
       " 'i10 Sportz 1.2 AT',\n",
       " 'Terrano XV D Pre',\n",
       " 'Brio VX AT',\n",
       " 'A6 2.0 TDI Design Edition',\n",
       " 'Fiesta 1.4 SXi TDCi',\n",
       " 'Innova 2.0 G1',\n",
       " 'Innova 2.5 VX 7 STR BSIV',\n",
       " 'Santro Xing XL',\n",
       " 'Swift VDI',\n",
       " 'Zest Revotron 1.2T XE',\n",
       " 'Amaze SX i-VTEC',\n",
       " 'Figo Diesel ZXI',\n",
       " 'Ritz VDi',\n",
       " 'City i VTEC E',\n",
       " '5 Series 2003-2012 525d',\n",
       " 'i10 Sportz 1.2',\n",
       " 'Grand i10 Sportz',\n",
       " 'Santro Xing XO',\n",
       " 'Amaze SX i-VTEC',\n",
       " 'Fortuner 4x2 Manual',\n",
       " 'A6 2011-2015 35 TDI Premium',\n",
       " 'Ecosport 1.5 DV5 MT Titanium Optional',\n",
       " 'XUV500 W8 2WD',\n",
       " 'Amaze SX i-DTEC',\n",
       " 'Polo Diesel Highline 1.2L',\n",
       " 'Verna Transform SX VGT CRDi',\n",
       " 'Wagon R VXI BS IV',\n",
       " 'Polo Petrol Highline 1.6L',\n",
       " 'i20 1.4 CRDi Sportz',\n",
       " 'i20 Asta 1.2',\n",
       " 'GO Plus T Petrol',\n",
       " 'A4 3.0 TDI Quattro Premium',\n",
       " 'i20 2015-2017 Asta',\n",
       " 'Omni 5 Str STD',\n",
       " 'Etios Liva 1.2 G',\n",
       " 'XF 3.0 Litre S Premium Luxury',\n",
       " 'XUV500 W8 2WD',\n",
       " 'Verna 1.6 SX CRDI (O) AT',\n",
       " 'Innova Crysta 2.8 ZX AT',\n",
       " 'Eeco 5 Seater AC',\n",
       " 'Nano Twist XT',\n",
       " '3 Series 320d Luxury Line',\n",
       " 'Civic 2006-2010 1.8 V MT',\n",
       " 'Innova 2.5 VX (Diesel) 7 Seater',\n",
       " 'V40 Cross Country D3',\n",
       " 'Micra XV CVT',\n",
       " '5 Series 2010-2013 525i',\n",
       " 'Vitara Brezza VDi',\n",
       " 'Santro Xing XL eRLX Euro III',\n",
       " 'B Class B200 CDI',\n",
       " 'Verna CRDi 1.6 SX Option',\n",
       " 'Wagon R LXI BS IV',\n",
       " 'Nano XTA',\n",
       " 'Scorpio VLX',\n",
       " 'New C-Class 200 K AT',\n",
       " 'Wagon R LXI CNG',\n",
       " 'CR-V 2.4 MT',\n",
       " 'Vento 1.5 TDI Comfortline AT',\n",
       " 'Ciaz VXi Plus',\n",
       " 'XUV500 AT W10 FWD',\n",
       " 'Ritz VXI ABS',\n",
       " 'Alto K10 VXI',\n",
       " 'SLC 43 AMG',\n",
       " 'Verna VTVT 1.6 AT SX Plus',\n",
       " 'Alto LXi BSIII',\n",
       " '1 Series 118d Base',\n",
       " 'Jazz 1.2 V CVT i VTEC',\n",
       " 'Civic 2006-2010 1.8 V MT',\n",
       " 'New C-Class C 220 CDI Avantgarde',\n",
       " 'Amaze SX i-DTEC',\n",
       " 'Swift VVT VXI',\n",
       " 'Santro Xing XO eRLX Euro II',\n",
       " 'Fortuner 3.0 Diesel',\n",
       " 'Beat LT Option',\n",
       " 'Rapid 1.5 TDI Elegance',\n",
       " 'Ciaz 1.4 Alpha',\n",
       " 'RS5 Coupe',\n",
       " '3 Series Luxury Line',\n",
       " 'A4 2.0 TDI 177 Bhp Premium Plus',\n",
       " 'Swift VDI',\n",
       " 'S Class 2005 2013 S 500',\n",
       " 'Rapid 1.5 TDI AT Elegance Plus Black Package',\n",
       " 'Superb Elegance 2.0 TDI CR AT',\n",
       " 'EON Magna Plus',\n",
       " 'Polo Diesel Trendline 1.2L',\n",
       " 'GO NXT',\n",
       " 'Brio S MT',\n",
       " 'B Class B180',\n",
       " 'City i DTEC V',\n",
       " 'Innova 2.5 G (Diesel) 7 Seater',\n",
       " 'Swift VXI Optional',\n",
       " 'XUV500 W8 2WD',\n",
       " 'Ecosport 1.5 DV5 MT Ambiente',\n",
       " 'Fortuner 4x2 Manual',\n",
       " 'Vento 1.5 Highline Plus AT 16 Alloy',\n",
       " 'Figo Diesel Titanium',\n",
       " 'X5 xDrive 30d',\n",
       " 'New C-Class C 220 CDI Style',\n",
       " 'Brio V MT',\n",
       " 'i10 Magna 1.2',\n",
       " 'GLC 220',\n",
       " 'Grand i10 1.2 Kappa Asta',\n",
       " 'A6 2011-2015 2.0 TDI Premium Plus',\n",
       " 'Vento Petrol Highline AT',\n",
       " 'Countryman Cooper D',\n",
       " 'i20 Asta 1.4 CRDi',\n",
       " 'A6 2011-2015 2.0 TDI Premium Plus',\n",
       " 'Beat Diesel LT',\n",
       " 'Superb Elegance 1.8 TSI AT',\n",
       " 'Fiesta 1.4 TDCi EXI Limited Edition',\n",
       " '5 Series 520d Luxury Line',\n",
       " 'Optra Magnum 1.6 LS BS3',\n",
       " 'Polo Diesel Highline 1.2L',\n",
       " 'Lodgy 110PS RxZ 8 Seater',\n",
       " 'E-Class E250 CDI Avantgrade',\n",
       " 'Baleno Alpha',\n",
       " 'Verna 1.6 SX',\n",
       " 'i10 Magna 1.1',\n",
       " 'Scorpio 1.99 S10 4WD',\n",
       " 'Rover Range Rover 2.2L Dynamic',\n",
       " 'Figo Diesel ZXI',\n",
       " 'Ertiga ZDI',\n",
       " 'City 1.5 GXI',\n",
       " 'Amaze S i-Dtech',\n",
       " 'i10 Magna',\n",
       " 'Amaze S i-Dtech',\n",
       " 'Laura Ambiente',\n",
       " 'Duster 85PS Diesel RxL',\n",
       " 'NuvoSport N6',\n",
       " 'Vitara Brezza ZDi Plus Dual Tone',\n",
       " 'i20 Asta Option 1.2',\n",
       " 'Fabia 1.4 MPI Ambiente',\n",
       " 'Indigo eCS GLX',\n",
       " 'Q3 2012-2015 35 TDI Quattro Premium Plus',\n",
       " 'Octavia Elegance 1.8 TSI AT',\n",
       " 'Etios Liva GD SP',\n",
       " 'Swift 1.3 VXi',\n",
       " 'B Class B180',\n",
       " 'Amaze S Diesel',\n",
       " 'Verna 1.6 SX',\n",
       " 'Duster 85PS Diesel RxL Optional',\n",
       " 'Creta 1.6 VTVT S',\n",
       " 'Wagon R AMT VXI',\n",
       " 'New C-Class C250 Avantgarde',\n",
       " 'A8 L 3.0 TDI quattro',\n",
       " 'i10 Magna 1.1',\n",
       " 'Rapid 1.6 MPI AT Style Black Package',\n",
       " 'Superb Style 1.8 TSI AT',\n",
       " 'i20 Active 1.2 SX',\n",
       " 'Amaze VX i-DTEC',\n",
       " 'Wagon R LXI',\n",
       " 'Verito 1.5 D4 BSIV',\n",
       " 'New C-Class C 220d Avantgarde Edition C',\n",
       " 'Wagon R VXI',\n",
       " 'Terrano XV Premium 110 PS Anniversary Edition',\n",
       " 'Swift VDI BSIV',\n",
       " 'Cooper Convertible S',\n",
       " 'Figo Diesel',\n",
       " 'Indica V2 DLS BSII',\n",
       " 'Beat LT',\n",
       " 'Polo Diesel Comfortline 1.2L',\n",
       " 'Swift ZDi',\n",
       " 'Figo Diesel EXI',\n",
       " 'Innova Crysta 2.8 GX AT',\n",
       " 'Santa Fe 4x4 AT',\n",
       " 'City i-VTEC V',\n",
       " 'i20 1.2 Magna Executive',\n",
       " 'New C-Class C 220d Avantgarde Edition C',\n",
       " 'Beat Diesel LT',\n",
       " 'i20 Sportz 1.4 CRDi',\n",
       " 'Innova 2.5 Z Diesel 7 Seater',\n",
       " 'Ertiga VDI',\n",
       " 'Innova 2.5 V Diesel 7-seater',\n",
       " 'Santro Xing XO eRLX Euro II',\n",
       " 'City i VTEC V',\n",
       " 'X1 sDrive20d',\n",
       " 'Grand i10 CRDi Era',\n",
       " 'Ciaz 1.3 Alpha',\n",
       " 'Rapid Leisure 1.6 TDI MT',\n",
       " 'Accent CRDi',\n",
       " 'Polo GT 1.5 TDI',\n",
       " 'Jazz 1.2 VX i VTEC',\n",
       " 'i10 Era',\n",
       " 'Tucson 2.0 e-VGT 2WD AT GLS',\n",
       " 'Innova Crysta 2.4 ZX MT',\n",
       " 'Omni MPI CARGO BSIII W/ IMMOBILISER',\n",
       " 'Swift VXI BSIV',\n",
       " 'Grand i10 Magna',\n",
       " 'Swift VDI',\n",
       " 'Verna CRDi 1.6 SX',\n",
       " 'Santro Xing XL',\n",
       " 'i20 1.2 Sportz',\n",
       " 'GLE 350d',\n",
       " 'New C-Class C 220 CDI CLASSIC',\n",
       " 'Ritz ZDi',\n",
       " 'Creta 1.6 CRDi SX',\n",
       " 'A-Star Vxi',\n",
       " 'Duster 110PS Diesel RXZ Option',\n",
       " 'Grande Punto 1.3 Emotion Pack (Diesel)',\n",
       " 'X3 xDrive30d M Sport',\n",
       " 'i10 Sportz',\n",
       " 'Innova 2.5 G4 Diesel 7-seater',\n",
       " 'Zen VXI BSII',\n",
       " 'Swift VDI',\n",
       " 'Scorpio VLX 2.2 mHawk Airbag BSIV',\n",
       " 'Zest Quadrajet 1.3 75PS XE',\n",
       " 'EcoSport 1.0 Ecoboost Titanium Plus',\n",
       " 'Swift Dzire ZDI',\n",
       " 'Alto 800 LXI',\n",
       " 'City 1.5 S MT',\n",
       " 'Q7 3.0 TDI Quattro Technology',\n",
       " 'Laura 1.9 TDI AT Ambiente',\n",
       " 'Verna 1.6 SX VTVT (O)',\n",
       " 'City 1.5 V AT',\n",
       " 'i20 Magna Optional 1.4 CRDi',\n",
       " 'i20 Sportz AT 1.4',\n",
       " 'Vento Diesel Highline',\n",
       " 'City i VTEC VX',\n",
       " 'Zest Quadrajet 1.3 75PS XE',\n",
       " '5 Series 2003-2012 520d',\n",
       " 'Wagon R LXI Minor',\n",
       " 'Jazz VX',\n",
       " 'Jetta 2007-2011 2.0 TDI Comfortline',\n",
       " 'i10 Magna 1.2',\n",
       " 'New C-Class C 220 CDI Avantgarde',\n",
       " 'i10 Magna 1.2 iTech SE',\n",
       " 'Innova Crysta 2.4 ZX MT',\n",
       " 'A6 2011-2015 2.0 TDI Technology',\n",
       " 'Innova 2.5 VX (Diesel) 7 Seater',\n",
       " 'Polo Petrol Trendline 1.2L',\n",
       " 'Alto K10 LXI',\n",
       " 'City i-VTEC CVT ZX',\n",
       " 'Indigo LX',\n",
       " 'A6 2011-2015 2.0 TDI Premium Plus',\n",
       " 'GLA Class 200 CDI SPORT',\n",
       " 'Santro Xing XL',\n",
       " 'Swift VDI BSIV',\n",
       " 'Celerio VXI AT',\n",
       " 'GLE 250d',\n",
       " 'Rover Range Rover HSE Dynamic',\n",
       " 'Vento Diesel Trendline',\n",
       " 'Omni 8 Seater BSIV',\n",
       " 'Brio 1.2 VX MT',\n",
       " 'Sumo Delux',\n",
       " 'Indica Vista Aura 1.3 Quadrajet',\n",
       " 'Wagon R LXI BS IV',\n",
       " 'XUV500 W8 4WD',\n",
       " 'Indigo LS Dicor',\n",
       " 'Ertiga Paseo VXI',\n",
       " 'Accord 2.4 A/T',\n",
       " 'Swift Dzire VDi',\n",
       " 'Fiesta EXi 1.4 TDCi Ltd',\n",
       " 'City ZX GXi',\n",
       " 'A6 2011-2015 2.0 TDI Premium Plus',\n",
       " '6 Series 640d Gran Coupe',\n",
       " 'Q7 45 TDI Quattro Technology',\n",
       " 'Zen Estilo LXI Green (CNG)',\n",
       " 'i20 1.4 CRDi Asta',\n",
       " 'i10 Sportz AT',\n",
       " 'Jazz 1.2 V CVT i VTEC',\n",
       " 'Swift VDI BSIV',\n",
       " 'i20 Asta 1.2',\n",
       " 'Polo Petrol Comfortline 1.2L',\n",
       " 'Alto LXi',\n",
       " 'Corolla H4',\n",
       " 'Alto LXi',\n",
       " 'Manza ELAN Quadrajet BS IV',\n",
       " 'Alto LXi',\n",
       " 'Octavia Ambition Plus 2.0 TDI AT',\n",
       " 'Corolla H4',\n",
       " 'i20 Asta Option 1.2',\n",
       " 'Vitara Brezza LDi',\n",
       " 'City 1.5 V MT',\n",
       " 'Indica Vista Aqua 1.3 Quadrajet',\n",
       " 'Amaze S i-Dtech',\n",
       " 'EON D Lite Plus',\n",
       " '3 Series Luxury Line',\n",
       " 'Verna 1.6 SX',\n",
       " 'Manza Club Class Quadrajet90 LS',\n",
       " 'Octavia RS',\n",
       " 'Alto K10 VXI',\n",
       " 'Ecosport 1.5 DV5 MT Titanium Optional',\n",
       " 'Spark 1.0 LS',\n",
       " 'XF 2.0 Diesel Portfolio',\n",
       " 'CR-V RVi MT',\n",
       " 'Superb L&K 1.8 TSI AT',\n",
       " 'i10 Magna 1.2',\n",
       " 'Swift LDI',\n",
       " 'Swift Dzire VXi AT',\n",
       " 'Micra Diesel XV',\n",
       " 'Swift Dzire Tour LDI',\n",
       " 'Fiesta Classic 1.4 Duratorq CLXI',\n",
       " 'Zen LX',\n",
       " 'Clubman Cooper S',\n",
       " 'Etios GD',\n",
       " 'Alto 800 2016-2019 LXI',\n",
       " 'Alto VXi',\n",
       " 'X5 3.0d',\n",
       " 'Teana XV',\n",
       " 'Grand i10 AT Asta',\n",
       " 'Vitara Brezza ZDi Plus',\n",
       " 'Q7 3.0 TDI Quattro Premium Plus',\n",
       " 'GLA Class 200 CDI',\n",
       " '800 AC',\n",
       " 'Duster 85PS Diesel RxL',\n",
       " 'Corolla Altis D-4D GL',\n",
       " 'New C-Class 220',\n",
       " 'Ritz VDi',\n",
       " 'BRV i-VTEC V CVT',\n",
       " 'Xcent 1.1 CRDi Base',\n",
       " 'E-Class 2009-2013 E250 CDI Avantgarde',\n",
       " 'B Class B180',\n",
       " 'E-Class 2015-2017 E250 Edition E',\n",
       " 'City i VTEC VX Option',\n",
       " 'Santro Xing XL eRLX Euro III',\n",
       " 'City 1.5 S MT',\n",
       " 'Verna Transform VTVT',\n",
       " 'XE Portfolio',\n",
       " 'Amaze S i-Vtech',\n",
       " 'Cooper Convertible 1.6',\n",
       " 'S Class 2005 2013 S 350 CDI',\n",
       " 'EON Magna Plus',\n",
       " 'Wagon R VXI BS IV',\n",
       " 'Ritz LDi',\n",
       " '3 Series 320d Sedan',\n",
       " 'Xenon XT EX 4X2',\n",
       " 'A3 35 TDI Attraction',\n",
       " 'Rover Range Rover 2.2L Dynamic',\n",
       " 'GL-Class 2007 2012 350 CDI Luxury',\n",
       " 'Pajero Sport 4X2 AT DualTone BlackTop',\n",
       " 'Alto LX',\n",
       " 'Wagon R LXI BSIII',\n",
       " 'Rover Range Rover 2.2L Prestige',\n",
       " 'Verna 1.6 SX VTVT',\n",
       " '5 Series 525d Sedan',\n",
       " 'XF Diesel',\n",
       " 'Superb Elegance 1.8 TSI AT',\n",
       " 'Q3 35 TDI Quattro Premium',\n",
       " 'Rover Range Rover 2.2L Pure',\n",
       " 'New C-Class 220 CDI AT',\n",
       " 'Scorpio S10 4WD',\n",
       " '3 Series Luxury Line',\n",
       " 'BR-V i-VTEC S MT',\n",
       " 'S80 2006-2013 D5',\n",
       " 'Accent GLE',\n",
       " 'i20 Active SX Petrol',\n",
       " 'GLC 43 AMG Coupe',\n",
       " 'EON Magna Plus',\n",
       " 'Grand i10 SportZ Edition',\n",
       " 'City 1.5 EXI S',\n",
       " 'Polo Petrol Trendline 1.2L',\n",
       " 'A6 35 TFSI Matrix',\n",
       " 'Jetta 2007-2011 1.9 L TDI',\n",
       " 'Creta 1.6 SX Plus Dual Tone Petrol',\n",
       " 'New C-Class C 200 CGI Avantgarde',\n",
       " 'Cooper Convertible S',\n",
       " 'Santro Xing XO eRLX Euro II',\n",
       " 'Etios VD',\n",
       " 'Brio S MT',\n",
       " 'Baleno Alpha Automatic',\n",
       " 'Laura Ambiente 2.0 TDI CR AT',\n",
       " 'EON Era Plus',\n",
       " 'Captur 1.5 Diesel RXL',\n",
       " '5 Series 2003-2012 GT 530d LE',\n",
       " 'Alto 800 LXI',\n",
       " 'V40 D3',\n",
       " 'Wagon R LXI BSII',\n",
       " 'City ZX GXi',\n",
       " 'Eeco 5 STR With AC Plus HTR CNG',\n",
       " 'Enjoy 1.4 LS 8',\n",
       " 'Bolero ZLX',\n",
       " 'Santro GLS I - Euro I',\n",
       " 'EON D Lite',\n",
       " 'Creta 1.6 SX Plus Petrol Automatic',\n",
       " 'Vento 1.6 Comfortline',\n",
       " 'Civic 2006-2010 1.8 S AT',\n",
       " 'Indica Vista Quadrajet LS',\n",
       " 'XUV500 W8 2WD',\n",
       " 'i20 1.2 Asta Option',\n",
       " 'Q5 30 TDI quattro Premium Plus',\n",
       " 'Ritz VXi',\n",
       " 'Cedia Sports',\n",
       " 'Innova 2.5 V Diesel 7-seater',\n",
       " 'Celerio LDi',\n",
       " 'S-Cross Delta DDiS 200 SH',\n",
       " 'Q3 35 TDI Quattro Premium Plus',\n",
       " '3 Series Luxury Line',\n",
       " 'Q7 4.2 TDI Quattro Technology',\n",
       " 'i20 2015-2017 Asta 1.2',\n",
       " 'Duster 110PS Diesel RxL',\n",
       " 'Xcent 1.1 CRDi S Celebration Edition',\n",
       " 'Ecosport 1.5 DV5 MT Titanium',\n",
       " 'Polo Petrol Trendline 1.2L',\n",
       " 'Grand i10 CRDi Magna',\n",
       " 'Manza Aqua Quadrajet BS IV',\n",
       " 'City 1.5 V MT',\n",
       " 'Santro Xing GLS',\n",
       " 'Innova 2.5 VX (Diesel) 7 Seater',\n",
       " 'Ciaz 1.3 S',\n",
       " 'Fortuner 4x4 MT TRD Sportivo',\n",
       " 'Fiesta 1.6 SXI ABS Duratec',\n",
       " 'E-Class E 220 d',\n",
       " 'New C-Class 220 CDI MT',\n",
       " 'Yeti Ambition 4X2',\n",
       " 'Grand i10 Sportz',\n",
       " 'Figo 2015-2019 1.2P Titanium MT',\n",
       " 'Octavia Ambition 1.4 TSI MT',\n",
       " 'Duster 85PS Diesel RxL Option',\n",
       " 'Rover Range Rover Evoque 2.0 TD4 Pure',\n",
       " 'Figo Diesel EXI',\n",
       " 'Endeavour Hurricane Limited Edition',\n",
       " 'Fortuner 4x4 MT',\n",
       " 'Polo Diesel Comfortline 1.2L',\n",
       " 'Ritz VDi',\n",
       " 'Micra Diesel XV Premium',\n",
       " 'Verna 1.6 SX',\n",
       " '5 Series 2003-2012 523i',\n",
       " 'GLS 350d 4MATIC',\n",
       " 'CR-V 2.4L 4WD AT',\n",
       " 'Creta 1.6 CRDi AT SX Plus',\n",
       " 'i10 Era',\n",
       " 'A Class A200 CDI Sport',\n",
       " 'Ertiga VXI',\n",
       " 'Octavia Classic 1.9 TDI MT',\n",
       " 'Amaze VX i-Vtech',\n",
       " 'Zen LXi BSII',\n",
       " 'SX4 ZXI MT BSIV',\n",
       " 'Brio VX AT',\n",
       " 'Wagon R VXI',\n",
       " 'Camry A/T',\n",
       " 'Beat LS',\n",
       " 'Fortuner 4x4 AT',\n",
       " 'Ecosport 1.5 DV5 MT Titanium Optional',\n",
       " 'Swift Vdi BSIII',\n",
       " 'S Class 2005 2013 S 350 CDI',\n",
       " 'Mobilio S i VTEC',\n",
       " 'Grand i10 Sportz',\n",
       " 'XUV500 AT W8 FWD',\n",
       " 'Fabia 1.6 MPI Elegance',\n",
       " 'Santro Xing GLS',\n",
       " 'Creta 1.6 SX Plus Dual Tone Petrol',\n",
       " 'Scorpio 1.99 S8',\n",
       " 'Rapid 1.6 TDI Ambition',\n",
       " 'Duster 110PS Diesel RxZ',\n",
       " 'X5 xDrive 30d',\n",
       " 'Etios G',\n",
       " 'Wagon R LXI',\n",
       " 'Creta 1.6 SX',\n",
       " 'Celerio VXI',\n",
       " 'Rover Range Rover HSE Dynamic',\n",
       " 'Beat LT',\n",
       " 'Nano Twist XT',\n",
       " 'A6 2011-2015 35 TDI Technology',\n",
       " 'E-Class 280 CDI',\n",
       " 'Swift VXI',\n",
       " 'Linea T Jet',\n",
       " 'Swift VXI Optional',\n",
       " 'Fortuner 3.0 Diesel',\n",
       " 'Ertiga ZXI',\n",
       " '3 Series 320i Sedan',\n",
       " 'Ertiga VXI',\n",
       " 'City 1.5 V AT',\n",
       " 'Santa Fe 4X4',\n",
       " 'Indigo LS',\n",
       " 'E-Class 2009-2013 E 250 Elegance',\n",
       " 'Swift Dzire LDi',\n",
       " 'Fiesta Classic 1.4 Duratorq CLXI',\n",
       " 'City i VTEC CVT VX',\n",
       " 'Fortuner 4x2 Manual',\n",
       " 'Amaze VX O i VTEC',\n",
       " 'i20 Asta 1.4 CRDi',\n",
       " 'Enjoy TCDi LTZ 7 Seater',\n",
       " 'New C-Class Progressive C 200',\n",
       " 'SX4 ZXI AT Leather',\n",
       " 'Innova 2.5 VX (Diesel) 7 Seater',\n",
       " '5 Series 2003-2012 520d',\n",
       " 'Duster 110PS Diesel RxZ',\n",
       " 'X1 sDrive 20d xLine',\n",
       " 'City ZX GXi',\n",
       " 'Ciaz RS ZDi Plus SHVS',\n",
       " 'Swift Dzire VXi',\n",
       " 'XUV500 W6 2WD',\n",
       " 'Civic 2006-2010 1.8 S MT',\n",
       " 'Ertiga ZDI',\n",
       " 'Etios Liva GD',\n",
       " 'TT 2.0 TFSI',\n",
       " 'Rapid 1.5 TDI Style',\n",
       " 'Polo 1.5 TDI Highline',\n",
       " 'Laura 1.9 TDI AT Elegance',\n",
       " 'Renault Logan 1.5 DLE Diesel',\n",
       " 'Innova Crysta 2.8 GX AT',\n",
       " '3 Series 320d Luxury Line',\n",
       " 'Jazz 1.5 S i DTEC',\n",
       " 'Amaze VX i-DTEC',\n",
       " 'XF 2.2 Litre Luxury',\n",
       " 'Swift Dzire VDI',\n",
       " 'Compass 2.0 Limited',\n",
       " 'Corolla Altis 1.8 Sport',\n",
       " 'City 1.5 V MT',\n",
       " 'Swift ZXI',\n",
       " 'Verna 1.6 SX CRDI (O) AT',\n",
       " 'Bolero ZLX',\n",
       " 'Swift VDI',\n",
       " 'Santro Xing XO',\n",
       " 'A6 2011-2015 2.0 TDI Premium Plus',\n",
       " 'Ikon 1.3 LXi NXt',\n",
       " 'Polo 1.5 TDI Highline',\n",
       " 'Bolero VLX CRDe',\n",
       " 'City i DTEC VX Option',\n",
       " 'Sail Hatchback 1.2 LS',\n",
       " 'i20 1.2 Spotz',\n",
       " 'X1 sDrive 20d Sportline',\n",
       " 'X1 sDrive 20d Exclusive',\n",
       " 'Fortuner 4x2 AT',\n",
       " 'Q7 4.2 TDI Quattro Technology',\n",
       " 'Ertiga VDI',\n",
       " 'i20 1.2 Magna',\n",
       " 'S Class 2005 2013 S 350 L',\n",
       " 'Duster 85PS Diesel RxL',\n",
       " 'Quanto C2',\n",
       " 'Fortuner 4x2 AT',\n",
       " 'X5 2014-2019 xDrive 30d Design Pure Experience 7 Seater',\n",
       " 'Swift Dzire VDi',\n",
       " 'Swift LDI Optional',\n",
       " 'A6 2011-2015 35 TFSI Technology',\n",
       " 'Pajero 2.8 SFX BSIV Dual Tone',\n",
       " 'XF 2.2 Litre Executive',\n",
       " 'Innova Crysta 2.8 ZX AT',\n",
       " 'Octavia Ambition 2.0 TDI AT',\n",
       " 'Corolla Altis VL AT',\n",
       " 'Omni 8 Seater BSII',\n",
       " 'GLC 220d 4MATIC Style',\n",
       " 'Vento 1.5 TDI Highline AT',\n",
       " 'XUV500 W10 2WD',\n",
       " 'Terrano XL 85 PS',\n",
       " 'Verna 1.6 SX CRDi (O)',\n",
       " '5 Series 2013-2017 530d M Sport',\n",
       " 'Scorpio S4 Plus',\n",
       " 'Verna 1.6 CRDi SX',\n",
       " 'Q7 3.0 TDI Quattro Premium Plus',\n",
       " 'Aveo U-VA 1.2 LT',\n",
       " 'Bolero ZLX BSIII',\n",
       " 'Xcent 1.2 Kappa S',\n",
       " 'Innova Crysta 2.4 GX MT 8S',\n",
       " 'EON Era Plus',\n",
       " 'Polo Diesel Comfortline 1.2L',\n",
       " 'Vitara Brezza ZDi',\n",
       " '3 Series 320d Prestige',\n",
       " 'EON Sportz',\n",
       " 'City 1.5 S MT',\n",
       " 'Accord 2.4 MT',\n",
       " 'Xylo E8',\n",
       " '3 Series 320d',\n",
       " 'City V MT',\n",
       " 'XUV500 W10 2WD',\n",
       " 'i20 Asta 1.4 CRDi',\n",
       " 'Fortuner 4x2 Manual',\n",
       " 'Bolero DI BSII',\n",
       " 'Esteem Vxi - BSIII',\n",
       " 'Santro LS zipPlus',\n",
       " 'Cooper 5 DOOR D',\n",
       " 'Q3 35 TDI Quattro Premium',\n",
       " 'i20 Sportz Option',\n",
       " 'Safari Storme VX Varicor 400',\n",
       " 'BR-V i-DTEC VX MT',\n",
       " 'Jetta 2013-2015 2.0L TDI Highline',\n",
       " 'Xcent 1.2 Kappa S Option',\n",
       " 'Ignis 1.2 Alpha',\n",
       " '5 Series 2013-2017 520d Luxury Line',\n",
       " 'Ikon 1.3 CLXi',\n",
       " 'i10 Sportz',\n",
       " 'Verna 1.6 CRDI',\n",
       " '3 Series 320d Highline',\n",
       " 'E-Class 2009-2013 E200 CGI Blue Efficiency',\n",
       " 'Beat Option Pack',\n",
       " 'Santro Xing XP',\n",
       " 'Indica DLS',\n",
       " 'XUV500 W8 2WD',\n",
       " 'Ciaz ZDi Plus SHVS',\n",
       " 'New C-Class C 250 CDI Avantgarde',\n",
       " 'City ZX CVT',\n",
       " 'Fortuner 4x2 4 Speed AT',\n",
       " 'Alto K10 VXI',\n",
       " 'XJ 2.0L Portfolio',\n",
       " 'i20 1.4 Magna ABS',\n",
       " 'BRV i-VTEC V CVT',\n",
       " 'Corolla Executive (HE)',\n",
       " 'A6 2011-2015 2.0 TDI Premium Plus',\n",
       " 'Innova 2.5 ZX Diesel 7 Seater BSIII',\n",
       " 'Grand i10 CRDi Sportz',\n",
       " 'Vento IPL II Petrol Highline AT',\n",
       " 'Innova 2.5 VX (Diesel) 7 Seater BS IV',\n",
       " 'Verna CRDi SX',\n",
       " 'Ritz VDi',\n",
       " 'Q7 3.0 TDI Quattro Technology',\n",
       " 'i20 Asta Option 1.2',\n",
       " 'Vitara Brezza ZDi Plus Dual Tone',\n",
       " 'City i VTEC S',\n",
       " 'Ciaz ZXi',\n",
       " 'Sunny XV CVT',\n",
       " 'Polo Diesel Highline 1.2L',\n",
       " 'Ertiga ZDI',\n",
       " 'Swift Dzire VDI',\n",
       " 'New C-Class C 220 CDI Elegance AT',\n",
       " 'Brio S MT',\n",
       " 'i10 Magna Optional 1.1L',\n",
       " 'Verna 1.6 SX CRDi (O)',\n",
       " 'Ciaz VDI SHVS',\n",
       " 'Ikon 1.3 Flair',\n",
       " 'Polo 1.2 MPI Highline',\n",
       " 'Jazz 1.2 V i VTEC',\n",
       " 'Amaze EX i-Dtech',\n",
       " 'i20 Asta 1.4 CRDi',\n",
       " 'Ritz VDi',\n",
       " 'City V MT',\n",
       " 'Superb 1.8 TSI MT',\n",
       " 'Vitara Brezza LDi Option',\n",
       " 'i20 Asta',\n",
       " 'Alto K10 VXI AGS',\n",
       " 'EON Era Plus',\n",
       " 'i10 Sportz',\n",
       " 'SLK-Class SLK 350',\n",
       " 'A6 2.0 TDI Design Edition',\n",
       " 'EcoSport 1.5 TDCi Titanium',\n",
       " 'Passat Highline DSG',\n",
       " 'Innova Crysta 2.4 ZX MT',\n",
       " 'Figo Diesel ZXI',\n",
       " 'Aveo 1.4',\n",
       " 'Ritz LXi',\n",
       " 'Rover Freelander 2 SE',\n",
       " 'Grand i10 Asta',\n",
       " 'Endeavour 3.2 Trend AT 4X4',\n",
       " 'Q5 2008-2012 2.0 TDI',\n",
       " 'Verna 1.6 VTVT',\n",
       " 'E-Class 2015-2017 E250 CDI Avantgarde',\n",
       " 'M-Class ML 350 4Matic',\n",
       " 'Swift Dzire ZXi',\n",
       " 'City 1.3 EXI S',\n",
       " 'Duster 85PS Diesel RxL Optional',\n",
       " 'New C-Class 220 CDI AT',\n",
       " 'X5 xDrive 30d Design Pure Experience 5 Seater',\n",
       " 'Xcent 1.2 Kappa SX Option',\n",
       " 'Dzire AMT ZXI Plus',\n",
       " '3 Series 320d Corporate Edition',\n",
       " 'Alto 800 LXI',\n",
       " 'A4 2.0 TDI 177 Bhp Premium Plus',\n",
       " 'Cooper S',\n",
       " 'Q7 3.0 TDI Quattro Premium Plus',\n",
       " 'Beat Diesel LT',\n",
       " 'Wagon R LXI BS IV',\n",
       " 'Terrano XV Premium 110 PS',\n",
       " '3 Series 320d Luxury Plus',\n",
       " 'Swift Dzire VXI',\n",
       " 'Yeti Elegance 4X2',\n",
       " 'EcoSport 1.5 Ti VCT AT Titanium',\n",
       " 'i20 1.2 Magna',\n",
       " 'S Cross DDiS 200 Sigma Option',\n",
       " 'Verna Transform VTVT',\n",
       " '3 Series 320d Luxury Line',\n",
       " 'Grand i10 1.2 CRDi Magna',\n",
       " 'City i-VTEC V',\n",
       " 'Swift 1.3 VXi',\n",
       " 'Swift VDI BSIV',\n",
       " 'Baleno Zeta 1.3',\n",
       " 'Safari Storme 2012-2015 LX',\n",
       " 'Accent GLS',\n",
       " 'Swift LDI SP Limited Edition',\n",
       " 'Swift VDI BSIV',\n",
       " 'Nano XTA',\n",
       " 'Ertiga VDI',\n",
       " 'Celerio VXI AMT',\n",
       " 'Swift VDI BSIV',\n",
       " 'Vento Petrol Highline',\n",
       " 'Jetta 2007-2011 1.9 Highline TDI',\n",
       " 'Cooper 5 DOOR D',\n",
       " 'Indica V2 DLS',\n",
       " 'Santro Xing XO',\n",
       " 'Rover Range Rover 3.0 D',\n",
       " 'City i-VTEC CVT VX',\n",
       " 'XF 2.2 Litre Luxury',\n",
       " 'E-Class 2015-2017 E250 Edition E',\n",
       " 'Cruze LTZ',\n",
       " 'XUV500 W8 2WD',\n",
       " 'New C-Class C 200 CGI Avantgarde',\n",
       " 'Jazz VX',\n",
       " 'Etios G',\n",
       " 'Alto LXi BSIII',\n",
       " 'Swift VXI BSIV',\n",
       " 'A-Star Vxi',\n",
       " 'Nano Lx BSIV',\n",
       " 'Figo Titanium Diesel',\n",
       " 'Linea Emotion',\n",
       " 'Figo Aspire 1.2 Ti-VCT Trend',\n",
       " 'Baleno LXI',\n",
       " '3 Series 320d Luxury Line',\n",
       " 'Cruze LTZ',\n",
       " 'Scorpio 2.6 DX',\n",
       " 'Indica V2 eLS',\n",
       " 'Cruze LTZ AT',\n",
       " 'Innova 2.5 V Diesel 8-seater',\n",
       " 'New C-Class C 220d Avantgarde Edition C',\n",
       " 'Ritz VXi',\n",
       " 'Innova 2.5 GX (Diesel) 8 Seater BS IV',\n",
       " 'Fortuner 4x4 MT',\n",
       " 'i10 Sportz AT',\n",
       " 'Verna 1.6 SX',\n",
       " 'Q3 2012-2015 35 TDI Quattro Premium Plus',\n",
       " 'Beat LS',\n",
       " 'Fiesta 1.4 Duratorq ZXI',\n",
       " 'Figo Diesel EXI',\n",
       " 'Celerio VXI AT',\n",
       " 'A Class A180 CDI',\n",
       " 'Creta 1.6 SX',\n",
       " 'Wagon R VXI BS IV',\n",
       " 'E-Class 2009-2013 E 220 CDI Avantgarde',\n",
       " 'EcoSport 1.5 Ti VCT MT Titanium BE',\n",
       " 'Koleos 2.0 Diesel',\n",
       " 'XUV500 W10 2WD',\n",
       " 'Omni E 8 Str STD',\n",
       " 'Wagon R VXI',\n",
       " 'Endeavour XLT TDCi 4X2',\n",
       " 'Verna 1.6 SX',\n",
       " 'i20 Magna 1.2',\n",
       " 'Ertiga ZXI',\n",
       " 'XUV500 W9 AT',\n",
       " 'SX4 S Cross DDiS 200 Zeta',\n",
       " 'SLK-Class SLK 350',\n",
       " 'Polo Diesel Comfortline 1.2L',\n",
       " 'Fortuner 4x4 MT',\n",
       " 'XUV500 W10 2WD',\n",
       " 'GLE 250d',\n",
       " 'Jazz 1.2 VX i VTEC',\n",
       " 'Swift Dzire VDI',\n",
       " 'Verna 1.6 SX VTVT',\n",
       " 'Endeavour 3.2 Titanium AT 4X4',\n",
       " 'i20 1.2 Asta Option',\n",
       " 'City 1.5 V MT Sunroof',\n",
       " 'Amaze VX Diesel',\n",
       " 'Verna 1.6 SX VTVT (O)',\n",
       " 'Mobilio S i DTEC',\n",
       " 'Ertiga ZDI',\n",
       " 'Alto K10 LXI',\n",
       " 'Qualis FS B2',\n",
       " 'i10 Sportz',\n",
       " 'Laura 1.9 TDI AT Ambiente',\n",
       " 'i20 Asta Option 1.2',\n",
       " '5 Series 2003-2012 530d Highline',\n",
       " '3 Series 320d M Sport',\n",
       " 'Aveo 1.4 LT ABS BSIV',\n",
       " 'E-Class 2009-2013 E250 CDI Elegance',\n",
       " 'A6 2011-2015 2.0 TDI Premium Plus',\n",
       " 'Wagon R LXI BS IV',\n",
       " 'KWID RXT',\n",
       " 'Ameo 1.5 TDI Highline',\n",
       " 'Polo Diesel Comfortline 1.2L',\n",
       " 'Alto 800 LXI',\n",
       " 'i20 Asta Option 1.2',\n",
       " 'Etios Liva G',\n",
       " 'i20 1.2 Sportz',\n",
       " 'i20 1.4 Asta',\n",
       " 'Wagon R LXI Optional',\n",
       " 'i20 1.4 Asta Option',\n",
       " 'Polo GT TSI',\n",
       " 'Figo Diesel Titanium',\n",
       " 'Swift ZXI',\n",
       " 'Grand i10 CRDi Magna',\n",
       " 'Xylo H4',\n",
       " 'Alto Green LXi (CNG)',\n",
       " 'i10 Magna 1.1',\n",
       " 'Octavia Elegance 2.0 TDI AT',\n",
       " 'X5 2014-2019 xDrive 30d Design Pure Experience 7 Seater',\n",
       " 'Celerio VXI AT',\n",
       " 'Vento Diesel Comfortline',\n",
       " '3 Series 320d Highline',\n",
       " 'Ertiga ZDI',\n",
       " 'Figo Diesel ZXI',\n",
       " 'Polo 1.2 MPI Highline',\n",
       " 'A6 3.0 TDI quattro',\n",
       " 'Innova Crysta 2.4 ZX MT',\n",
       " 'Verna 1.6 CRDi EX AT',\n",
       " 'Santro Xing GL Plus',\n",
       " 'A4 2.0 TDI',\n",
       " 'A4 2.0 TDI',\n",
       " 'Laura 1.9 TDI MT Ambiente',\n",
       " 'CR-V 2.0L 2WD AT',\n",
       " 'Verna 1.6 SX CRDi (O)',\n",
       " 'Mobilio RS i DTEC',\n",
       " 'i20 1.2 Asta Option',\n",
       " 'Innova 2.5 G (Diesel) 7 Seater BS IV',\n",
       " 'i20 Magna 1.2',\n",
       " 'Bolero VLX BS IV',\n",
       " 'Vento 1.5 TDI Comfortline',\n",
       " 'XF 2.2 Litre Luxury',\n",
       " 'Zen LXi - BS III',\n",
       " 'E-Class Facelift',\n",
       " 'Fortuner 3.0 Diesel',\n",
       " 'Grand i10 AT Asta',\n",
       " 'Xcent 1.2 CRDi S',\n",
       " 'Creta 1.6 VTVT S',\n",
       " 'i10 Sportz',\n",
       " 'Brio S MT',\n",
       " 'Fortuner 4x2 AT',\n",
       " 'A4 2.0 TDI Multitronic',\n",
       " 'Innova Crysta 2.8 ZX AT',\n",
       " 'City i DTEC VX',\n",
       " 'City i DTEC VX',\n",
       " 'KWID 1.0 RXT Optional',\n",
       " 'Swift DDiS ZDI Plus',\n",
       " 'Celerio VXI Optional AMT',\n",
       " 'XUV500 W8 2WD',\n",
       " 'i10 Magna',\n",
       " 'i10 Magna 1.1',\n",
       " 'Dzire VXI',\n",
       " 'Grand Vitara AT',\n",
       " 'TT 40 TFSI',\n",
       " 'New C-Class C 200 CGI',\n",
       " 'Sunny 2011-2014 Diesel XV',\n",
       " 'Wagon R LXI',\n",
       " 'Swift Dzire ZDI',\n",
       " 'Amaze S i-Dtech',\n",
       " 'Swift ZDI',\n",
       " 'Accent Executive CNG',\n",
       " 'Scorpio LX 2.6 Turbo',\n",
       " 'E-Class E250 CDI Avantgrade',\n",
       " 'Fortuner 4x2 Manual',\n",
       " 'redi-GO T Option',\n",
       " 'City V MT',\n",
       " 'Camry Hybrid',\n",
       " 'City i DTec V',\n",
       " 'Jetta 2012-2014 2.0L TDI Trendline',\n",
       " 'A6 2011-2015 2.0 TDI',\n",
       " 'Ertiga VDI',\n",
       " 'New C-Class C 220 CDI Style',\n",
       " 'Swift Dzire Vdi BSIV',\n",
       " 'Duster 110PS Diesel RxZ Pack',\n",
       " 'Ritz VDi',\n",
       " 'Swift Dzire VXI',\n",
       " 'Swift ZDi',\n",
       " 'EON Sportz',\n",
       " 'Zen VXI BSII',\n",
       " 'Eeco 7 Seater Standard',\n",
       " 'Q5 30 TDI quattro Premium',\n",
       " 'Q3 2.0 TDI',\n",
       " 'Fortwo CDI AT',\n",
       " 'Swift Dzire VDi',\n",
       " 'Sumo DX',\n",
       " 'X5 2014-2019 xDrive 30d Design Pure Experience 7 Seater',\n",
       " 'City i-VTEC CVT VX',\n",
       " 'Indigo eCS eLX BS IV',\n",
       " 'Vento TSI',\n",
       " 'Celerio VXI',\n",
       " 'Fortuner 3.0 Diesel',\n",
       " 'Outlander 2.4',\n",
       " 'Jetta 2007-2011 1.9 Highline TDI',\n",
       " 'Cayman 2009-2012 S',\n",
       " 'Creta 1.6 CRDi SX',\n",
       " 'Fabia 1.2 MPI Ambiente Petrol',\n",
       " 'EcoSport 1.5 TDCi Titanium',\n",
       " 'Zen Estilo 1.1 LXI BSIII',\n",
       " 'Ciaz 1.4 Delta',\n",
       " 'New C-Class C 200 Avantgarde Edition C',\n",
       " 'Amaze SX i-VTEC',\n",
       " 'Etios GD',\n",
       " 'Duster 85PS Diesel RxL',\n",
       " 'Wagon R LXI LPG BSIV',\n",
       " 'Polo Petrol Highline 1.2L',\n",
       " 'Creta 1.6 SX Plus Diesel',\n",
       " 'XF Diesel',\n",
       " 'Compass 2.0 Limited 4X4',\n",
       " 'Rover Range Rover Evoque 2.0 TD4 HSE Dynamic',\n",
       " 'Baleno Alpha Diesel',\n",
       " 'Ciaz ZDi SHVS',\n",
       " 'SX4 Vxi BSIII',\n",
       " 'Elantra CRDi SX',\n",
       " 'Pajero Sport 4X4',\n",
       " 'Ameo 1.2 MPI Comfortline',\n",
       " 'Ritz VXi',\n",
       " 'Verna CRDi SX',\n",
       " 'Swift Dzire Tour LDI',\n",
       " 'KUV 100 mFALCON D75 K6',\n",
       " 'Innova Crysta 2.4 ZX MT',\n",
       " 'Baleno Delta 1.2',\n",
       " 'Jazz VX Diesel',\n",
       " 'i20 1.2 Asta',\n",
       " 'i20 Sportz Diesel',\n",
       " 'New C-Class C 220d Avantgarde Edition C',\n",
       " 'Xcent 1.2 Kappa Base',\n",
       " 'Grand i10 AT Asta',\n",
       " 'Alto 800 VXI',\n",
       " 'Sail Hatchback 1.2 LS',\n",
       " 'C-Class Progressive C 220d',\n",
       " 'Superb Elegance 1.8 TSI AT',\n",
       " 'A4 2.0 TDI',\n",
       " 'Innova 2.5 G (Diesel) 7 Seater BS IV',\n",
       " 'CLA 200 CDI Sport',\n",
       " 'i10 Era',\n",
       " 'Swift Dzire VXi',\n",
       " 'Rapid 1.5 TDI AT Ambition',\n",
       " 'Ritz VDi',\n",
       " 'Accent GLS 1.6',\n",
       " 'Amaze SX i-VTEC',\n",
       " 'Wagon R LXI',\n",
       " 'Polo Diesel Comfortline 1.2L',\n",
       " 'Endeavour 2.2 Trend AT 4X2',\n",
       " 'i20 1.2 Sportz',\n",
       " 'Beat Diesel PS',\n",
       " 'Civic 2010-2013 1.8 V MT',\n",
       " 'Wagon R VXI BS IV',\n",
       " 'Rapid 1.6 MPI Ambition Plus',\n",
       " 'Baleno Vxi - BSIII',\n",
       " 'EcoSport 1.5 TDCi Titanium',\n",
       " 'Accent GLE',\n",
       " '5 Series 520d Luxury Line',\n",
       " 'Alto K10 2010-2014 VXI',\n",
       " 'Q3 2012-2015 2.0 TDI Quattro Premium Plus',\n",
       " 'Wagon R LXI DUO BSIII',\n",
       " 'Corolla H4',\n",
       " 'XC60 D5',\n",
       " 'Jazz 1.5 VX i DTEC',\n",
       " 'Ciaz 1.3 Alpha',\n",
       " 'Swift VXI BSIV',\n",
       " 'New C-Class C 220 CDI Avantgarde',\n",
       " 'Wagon R VXI Minor',\n",
       " 'A Class A180 Sport',\n",
       " 'Santro Xing GL',\n",
       " 'Swift Dzire AMT ZDI',\n",
       " 'Grand i10 AT Asta',\n",
       " 'Sunny 2011-2014 XV Special Edition',\n",
       " ...]"
      ]
     },
     "execution_count": 44,
     "metadata": {},
     "output_type": "execute_result"
    }
   ],
   "source": [
    "Model"
   ]
  },
  {
   "cell_type": "markdown",
   "metadata": {},
   "source": [
    "# geeting unique values in models of cars"
   ]
  },
  {
   "cell_type": "code",
   "execution_count": 45,
   "metadata": {},
   "outputs": [],
   "source": [
    "x = np.array(Model) \n",
    "y = (np.unique(x))"
   ]
  },
  {
   "cell_type": "code",
   "execution_count": 46,
   "metadata": {},
   "outputs": [
    {
     "data": {
      "text/plain": [
       "1876"
      ]
     },
     "execution_count": 46,
     "metadata": {},
     "output_type": "execute_result"
    }
   ],
   "source": [
    "len(y)"
   ]
  },
  {
   "cell_type": "markdown",
   "metadata": {},
   "source": [
    "# Entering car model name in dataset"
   ]
  },
  {
   "cell_type": "code",
   "execution_count": 47,
   "metadata": {},
   "outputs": [],
   "source": [
    "data['Model'] = Model"
   ]
  },
  {
   "cell_type": "code",
   "execution_count": 48,
   "metadata": {},
   "outputs": [
    {
     "data": {
      "text/html": [
       "<div>\n",
       "<style scoped>\n",
       "    .dataframe tbody tr th:only-of-type {\n",
       "        vertical-align: middle;\n",
       "    }\n",
       "\n",
       "    .dataframe tbody tr th {\n",
       "        vertical-align: top;\n",
       "    }\n",
       "\n",
       "    .dataframe thead th {\n",
       "        text-align: right;\n",
       "    }\n",
       "</style>\n",
       "<table border=\"1\" class=\"dataframe\">\n",
       "  <thead>\n",
       "    <tr style=\"text-align: right;\">\n",
       "      <th></th>\n",
       "      <th>Name</th>\n",
       "      <th>Location</th>\n",
       "      <th>Year</th>\n",
       "      <th>Kilometers_Driven</th>\n",
       "      <th>Fuel_Type</th>\n",
       "      <th>Transmission</th>\n",
       "      <th>Owner_Type</th>\n",
       "      <th>Mileage</th>\n",
       "      <th>Engine</th>\n",
       "      <th>Power</th>\n",
       "      <th>Seats</th>\n",
       "      <th>Price</th>\n",
       "      <th>cleanEngine</th>\n",
       "      <th>cleanPower</th>\n",
       "      <th>cleanMileage</th>\n",
       "      <th>carCompany</th>\n",
       "      <th>Model</th>\n",
       "    </tr>\n",
       "  </thead>\n",
       "  <tbody>\n",
       "    <tr>\n",
       "      <th>0</th>\n",
       "      <td>Maruti Wagon R LXI CNG</td>\n",
       "      <td>Mumbai</td>\n",
       "      <td>2010</td>\n",
       "      <td>72000</td>\n",
       "      <td>CNG</td>\n",
       "      <td>Manual</td>\n",
       "      <td>First</td>\n",
       "      <td>26.6 km/kg</td>\n",
       "      <td>998 CC</td>\n",
       "      <td>58.16 bhp</td>\n",
       "      <td>5.0</td>\n",
       "      <td>1.75</td>\n",
       "      <td>998.0</td>\n",
       "      <td>58.16</td>\n",
       "      <td>26.60</td>\n",
       "      <td>Maruti</td>\n",
       "      <td>Wagon R LXI CNG</td>\n",
       "    </tr>\n",
       "    <tr>\n",
       "      <th>1</th>\n",
       "      <td>Hyundai Creta 1.6 CRDi SX Option</td>\n",
       "      <td>Pune</td>\n",
       "      <td>2015</td>\n",
       "      <td>41000</td>\n",
       "      <td>Diesel</td>\n",
       "      <td>Manual</td>\n",
       "      <td>First</td>\n",
       "      <td>19.67 kmpl</td>\n",
       "      <td>1582 CC</td>\n",
       "      <td>126.2 bhp</td>\n",
       "      <td>5.0</td>\n",
       "      <td>12.50</td>\n",
       "      <td>1582.0</td>\n",
       "      <td>126.20</td>\n",
       "      <td>19.67</td>\n",
       "      <td>Hyundai</td>\n",
       "      <td>Creta 1.6 CRDi SX Option</td>\n",
       "    </tr>\n",
       "    <tr>\n",
       "      <th>2</th>\n",
       "      <td>Honda Jazz V</td>\n",
       "      <td>Chennai</td>\n",
       "      <td>2011</td>\n",
       "      <td>46000</td>\n",
       "      <td>Petrol</td>\n",
       "      <td>Manual</td>\n",
       "      <td>First</td>\n",
       "      <td>18.2 kmpl</td>\n",
       "      <td>1199 CC</td>\n",
       "      <td>88.7 bhp</td>\n",
       "      <td>5.0</td>\n",
       "      <td>4.50</td>\n",
       "      <td>1199.0</td>\n",
       "      <td>88.70</td>\n",
       "      <td>18.20</td>\n",
       "      <td>Honda</td>\n",
       "      <td>Jazz V</td>\n",
       "    </tr>\n",
       "    <tr>\n",
       "      <th>3</th>\n",
       "      <td>Maruti Ertiga VDI</td>\n",
       "      <td>Chennai</td>\n",
       "      <td>2012</td>\n",
       "      <td>87000</td>\n",
       "      <td>Diesel</td>\n",
       "      <td>Manual</td>\n",
       "      <td>First</td>\n",
       "      <td>20.77 kmpl</td>\n",
       "      <td>1248 CC</td>\n",
       "      <td>88.76 bhp</td>\n",
       "      <td>7.0</td>\n",
       "      <td>6.00</td>\n",
       "      <td>1248.0</td>\n",
       "      <td>88.76</td>\n",
       "      <td>20.77</td>\n",
       "      <td>Maruti</td>\n",
       "      <td>Ertiga VDI</td>\n",
       "    </tr>\n",
       "    <tr>\n",
       "      <th>4</th>\n",
       "      <td>Audi A4 New 2.0 TDI Multitronic</td>\n",
       "      <td>Coimbatore</td>\n",
       "      <td>2013</td>\n",
       "      <td>40670</td>\n",
       "      <td>Diesel</td>\n",
       "      <td>Automatic</td>\n",
       "      <td>Second</td>\n",
       "      <td>15.2 kmpl</td>\n",
       "      <td>1968 CC</td>\n",
       "      <td>140.8 bhp</td>\n",
       "      <td>5.0</td>\n",
       "      <td>17.74</td>\n",
       "      <td>1968.0</td>\n",
       "      <td>140.80</td>\n",
       "      <td>15.20</td>\n",
       "      <td>Audi</td>\n",
       "      <td>A4 New 2.0 TDI Multitronic</td>\n",
       "    </tr>\n",
       "    <tr>\n",
       "      <th>5</th>\n",
       "      <td>Hyundai EON LPG Era Plus Option</td>\n",
       "      <td>Hyderabad</td>\n",
       "      <td>2012</td>\n",
       "      <td>75000</td>\n",
       "      <td>LPG</td>\n",
       "      <td>Manual</td>\n",
       "      <td>First</td>\n",
       "      <td>21.1 km/kg</td>\n",
       "      <td>814 CC</td>\n",
       "      <td>55.2 bhp</td>\n",
       "      <td>5.0</td>\n",
       "      <td>2.35</td>\n",
       "      <td>814.0</td>\n",
       "      <td>55.20</td>\n",
       "      <td>21.10</td>\n",
       "      <td>Hyundai</td>\n",
       "      <td>EON LPG Era Plus Option</td>\n",
       "    </tr>\n",
       "    <tr>\n",
       "      <th>6</th>\n",
       "      <td>Nissan Micra Diesel XV</td>\n",
       "      <td>Jaipur</td>\n",
       "      <td>2013</td>\n",
       "      <td>86999</td>\n",
       "      <td>Diesel</td>\n",
       "      <td>Manual</td>\n",
       "      <td>First</td>\n",
       "      <td>23.08 kmpl</td>\n",
       "      <td>1461 CC</td>\n",
       "      <td>63.1 bhp</td>\n",
       "      <td>5.0</td>\n",
       "      <td>3.50</td>\n",
       "      <td>1461.0</td>\n",
       "      <td>63.10</td>\n",
       "      <td>23.08</td>\n",
       "      <td>Nissan</td>\n",
       "      <td>Micra Diesel XV</td>\n",
       "    </tr>\n",
       "    <tr>\n",
       "      <th>7</th>\n",
       "      <td>Toyota Innova Crysta 2.8 GX AT 8S</td>\n",
       "      <td>Mumbai</td>\n",
       "      <td>2016</td>\n",
       "      <td>36000</td>\n",
       "      <td>Diesel</td>\n",
       "      <td>Automatic</td>\n",
       "      <td>First</td>\n",
       "      <td>11.36 kmpl</td>\n",
       "      <td>2755 CC</td>\n",
       "      <td>171.5 bhp</td>\n",
       "      <td>8.0</td>\n",
       "      <td>17.50</td>\n",
       "      <td>2755.0</td>\n",
       "      <td>171.50</td>\n",
       "      <td>11.36</td>\n",
       "      <td>Toyota</td>\n",
       "      <td>Innova Crysta 2.8 GX AT 8S</td>\n",
       "    </tr>\n",
       "    <tr>\n",
       "      <th>8</th>\n",
       "      <td>Volkswagen Vento Diesel Comfortline</td>\n",
       "      <td>Pune</td>\n",
       "      <td>2013</td>\n",
       "      <td>64430</td>\n",
       "      <td>Diesel</td>\n",
       "      <td>Manual</td>\n",
       "      <td>First</td>\n",
       "      <td>20.54 kmpl</td>\n",
       "      <td>1598 CC</td>\n",
       "      <td>103.6 bhp</td>\n",
       "      <td>5.0</td>\n",
       "      <td>5.20</td>\n",
       "      <td>1598.0</td>\n",
       "      <td>103.60</td>\n",
       "      <td>20.54</td>\n",
       "      <td>Volkswagen</td>\n",
       "      <td>Vento Diesel Comfortline</td>\n",
       "    </tr>\n",
       "    <tr>\n",
       "      <th>9</th>\n",
       "      <td>Tata Indica Vista Quadrajet LS</td>\n",
       "      <td>Chennai</td>\n",
       "      <td>2012</td>\n",
       "      <td>65932</td>\n",
       "      <td>Diesel</td>\n",
       "      <td>Manual</td>\n",
       "      <td>Second</td>\n",
       "      <td>22.3 kmpl</td>\n",
       "      <td>1248 CC</td>\n",
       "      <td>74 bhp</td>\n",
       "      <td>5.0</td>\n",
       "      <td>1.95</td>\n",
       "      <td>1248.0</td>\n",
       "      <td>74.00</td>\n",
       "      <td>22.30</td>\n",
       "      <td>Tata</td>\n",
       "      <td>Indica Vista Quadrajet LS</td>\n",
       "    </tr>\n",
       "  </tbody>\n",
       "</table>\n",
       "</div>"
      ],
      "text/plain": [
       "                                  Name    Location  Year  Kilometers_Driven  \\\n",
       "0               Maruti Wagon R LXI CNG      Mumbai  2010              72000   \n",
       "1     Hyundai Creta 1.6 CRDi SX Option        Pune  2015              41000   \n",
       "2                         Honda Jazz V     Chennai  2011              46000   \n",
       "3                    Maruti Ertiga VDI     Chennai  2012              87000   \n",
       "4      Audi A4 New 2.0 TDI Multitronic  Coimbatore  2013              40670   \n",
       "5      Hyundai EON LPG Era Plus Option   Hyderabad  2012              75000   \n",
       "6               Nissan Micra Diesel XV      Jaipur  2013              86999   \n",
       "7    Toyota Innova Crysta 2.8 GX AT 8S      Mumbai  2016              36000   \n",
       "8  Volkswagen Vento Diesel Comfortline        Pune  2013              64430   \n",
       "9       Tata Indica Vista Quadrajet LS     Chennai  2012              65932   \n",
       "\n",
       "  Fuel_Type Transmission Owner_Type     Mileage   Engine      Power  Seats  \\\n",
       "0       CNG       Manual      First  26.6 km/kg   998 CC  58.16 bhp    5.0   \n",
       "1    Diesel       Manual      First  19.67 kmpl  1582 CC  126.2 bhp    5.0   \n",
       "2    Petrol       Manual      First   18.2 kmpl  1199 CC   88.7 bhp    5.0   \n",
       "3    Diesel       Manual      First  20.77 kmpl  1248 CC  88.76 bhp    7.0   \n",
       "4    Diesel    Automatic     Second   15.2 kmpl  1968 CC  140.8 bhp    5.0   \n",
       "5       LPG       Manual      First  21.1 km/kg   814 CC   55.2 bhp    5.0   \n",
       "6    Diesel       Manual      First  23.08 kmpl  1461 CC   63.1 bhp    5.0   \n",
       "7    Diesel    Automatic      First  11.36 kmpl  2755 CC  171.5 bhp    8.0   \n",
       "8    Diesel       Manual      First  20.54 kmpl  1598 CC  103.6 bhp    5.0   \n",
       "9    Diesel       Manual     Second   22.3 kmpl  1248 CC     74 bhp    5.0   \n",
       "\n",
       "   Price  cleanEngine  cleanPower  cleanMileage  carCompany  \\\n",
       "0   1.75        998.0       58.16         26.60      Maruti   \n",
       "1  12.50       1582.0      126.20         19.67     Hyundai   \n",
       "2   4.50       1199.0       88.70         18.20       Honda   \n",
       "3   6.00       1248.0       88.76         20.77      Maruti   \n",
       "4  17.74       1968.0      140.80         15.20        Audi   \n",
       "5   2.35        814.0       55.20         21.10     Hyundai   \n",
       "6   3.50       1461.0       63.10         23.08      Nissan   \n",
       "7  17.50       2755.0      171.50         11.36      Toyota   \n",
       "8   5.20       1598.0      103.60         20.54  Volkswagen   \n",
       "9   1.95       1248.0       74.00         22.30        Tata   \n",
       "\n",
       "                        Model  \n",
       "0             Wagon R LXI CNG  \n",
       "1    Creta 1.6 CRDi SX Option  \n",
       "2                      Jazz V  \n",
       "3                  Ertiga VDI  \n",
       "4  A4 New 2.0 TDI Multitronic  \n",
       "5     EON LPG Era Plus Option  \n",
       "6             Micra Diesel XV  \n",
       "7  Innova Crysta 2.8 GX AT 8S  \n",
       "8    Vento Diesel Comfortline  \n",
       "9   Indica Vista Quadrajet LS  "
      ]
     },
     "execution_count": 48,
     "metadata": {},
     "output_type": "execute_result"
    }
   ],
   "source": [
    "data.head(10)"
   ]
  },
  {
   "cell_type": "markdown",
   "metadata": {},
   "source": [
    "# Dropping multiple useless columns like name, mileage, power and engine"
   ]
  },
  {
   "cell_type": "code",
   "execution_count": 49,
   "metadata": {},
   "outputs": [
    {
     "data": {
      "text/html": [
       "<div>\n",
       "<style scoped>\n",
       "    .dataframe tbody tr th:only-of-type {\n",
       "        vertical-align: middle;\n",
       "    }\n",
       "\n",
       "    .dataframe tbody tr th {\n",
       "        vertical-align: top;\n",
       "    }\n",
       "\n",
       "    .dataframe thead th {\n",
       "        text-align: right;\n",
       "    }\n",
       "</style>\n",
       "<table border=\"1\" class=\"dataframe\">\n",
       "  <thead>\n",
       "    <tr style=\"text-align: right;\">\n",
       "      <th></th>\n",
       "      <th>Location</th>\n",
       "      <th>Year</th>\n",
       "      <th>Kilometers_Driven</th>\n",
       "      <th>Fuel_Type</th>\n",
       "      <th>Transmission</th>\n",
       "      <th>Owner_Type</th>\n",
       "      <th>Seats</th>\n",
       "      <th>Price</th>\n",
       "      <th>cleanEngine</th>\n",
       "      <th>cleanPower</th>\n",
       "      <th>cleanMileage</th>\n",
       "      <th>carCompany</th>\n",
       "      <th>Model</th>\n",
       "    </tr>\n",
       "  </thead>\n",
       "  <tbody>\n",
       "    <tr>\n",
       "      <th>0</th>\n",
       "      <td>Mumbai</td>\n",
       "      <td>2010</td>\n",
       "      <td>72000</td>\n",
       "      <td>CNG</td>\n",
       "      <td>Manual</td>\n",
       "      <td>First</td>\n",
       "      <td>5.0</td>\n",
       "      <td>1.75</td>\n",
       "      <td>998.0</td>\n",
       "      <td>58.16</td>\n",
       "      <td>26.60</td>\n",
       "      <td>Maruti</td>\n",
       "      <td>Wagon R LXI CNG</td>\n",
       "    </tr>\n",
       "    <tr>\n",
       "      <th>1</th>\n",
       "      <td>Pune</td>\n",
       "      <td>2015</td>\n",
       "      <td>41000</td>\n",
       "      <td>Diesel</td>\n",
       "      <td>Manual</td>\n",
       "      <td>First</td>\n",
       "      <td>5.0</td>\n",
       "      <td>12.50</td>\n",
       "      <td>1582.0</td>\n",
       "      <td>126.20</td>\n",
       "      <td>19.67</td>\n",
       "      <td>Hyundai</td>\n",
       "      <td>Creta 1.6 CRDi SX Option</td>\n",
       "    </tr>\n",
       "    <tr>\n",
       "      <th>2</th>\n",
       "      <td>Chennai</td>\n",
       "      <td>2011</td>\n",
       "      <td>46000</td>\n",
       "      <td>Petrol</td>\n",
       "      <td>Manual</td>\n",
       "      <td>First</td>\n",
       "      <td>5.0</td>\n",
       "      <td>4.50</td>\n",
       "      <td>1199.0</td>\n",
       "      <td>88.70</td>\n",
       "      <td>18.20</td>\n",
       "      <td>Honda</td>\n",
       "      <td>Jazz V</td>\n",
       "    </tr>\n",
       "    <tr>\n",
       "      <th>3</th>\n",
       "      <td>Chennai</td>\n",
       "      <td>2012</td>\n",
       "      <td>87000</td>\n",
       "      <td>Diesel</td>\n",
       "      <td>Manual</td>\n",
       "      <td>First</td>\n",
       "      <td>7.0</td>\n",
       "      <td>6.00</td>\n",
       "      <td>1248.0</td>\n",
       "      <td>88.76</td>\n",
       "      <td>20.77</td>\n",
       "      <td>Maruti</td>\n",
       "      <td>Ertiga VDI</td>\n",
       "    </tr>\n",
       "    <tr>\n",
       "      <th>4</th>\n",
       "      <td>Coimbatore</td>\n",
       "      <td>2013</td>\n",
       "      <td>40670</td>\n",
       "      <td>Diesel</td>\n",
       "      <td>Automatic</td>\n",
       "      <td>Second</td>\n",
       "      <td>5.0</td>\n",
       "      <td>17.74</td>\n",
       "      <td>1968.0</td>\n",
       "      <td>140.80</td>\n",
       "      <td>15.20</td>\n",
       "      <td>Audi</td>\n",
       "      <td>A4 New 2.0 TDI Multitronic</td>\n",
       "    </tr>\n",
       "    <tr>\n",
       "      <th>...</th>\n",
       "      <td>...</td>\n",
       "      <td>...</td>\n",
       "      <td>...</td>\n",
       "      <td>...</td>\n",
       "      <td>...</td>\n",
       "      <td>...</td>\n",
       "      <td>...</td>\n",
       "      <td>...</td>\n",
       "      <td>...</td>\n",
       "      <td>...</td>\n",
       "      <td>...</td>\n",
       "      <td>...</td>\n",
       "      <td>...</td>\n",
       "    </tr>\n",
       "    <tr>\n",
       "      <th>6014</th>\n",
       "      <td>Delhi</td>\n",
       "      <td>2014</td>\n",
       "      <td>27365</td>\n",
       "      <td>Diesel</td>\n",
       "      <td>Manual</td>\n",
       "      <td>First</td>\n",
       "      <td>5.0</td>\n",
       "      <td>4.75</td>\n",
       "      <td>1248.0</td>\n",
       "      <td>74.00</td>\n",
       "      <td>28.40</td>\n",
       "      <td>Maruti</td>\n",
       "      <td>Swift VDI</td>\n",
       "    </tr>\n",
       "    <tr>\n",
       "      <th>6015</th>\n",
       "      <td>Jaipur</td>\n",
       "      <td>2015</td>\n",
       "      <td>100000</td>\n",
       "      <td>Diesel</td>\n",
       "      <td>Manual</td>\n",
       "      <td>First</td>\n",
       "      <td>5.0</td>\n",
       "      <td>4.00</td>\n",
       "      <td>1120.0</td>\n",
       "      <td>71.00</td>\n",
       "      <td>24.40</td>\n",
       "      <td>Hyundai</td>\n",
       "      <td>Xcent 1.1 CRDi S</td>\n",
       "    </tr>\n",
       "    <tr>\n",
       "      <th>6016</th>\n",
       "      <td>Jaipur</td>\n",
       "      <td>2012</td>\n",
       "      <td>55000</td>\n",
       "      <td>Diesel</td>\n",
       "      <td>Manual</td>\n",
       "      <td>Second</td>\n",
       "      <td>8.0</td>\n",
       "      <td>2.90</td>\n",
       "      <td>2498.0</td>\n",
       "      <td>112.00</td>\n",
       "      <td>14.00</td>\n",
       "      <td>Mahindra</td>\n",
       "      <td>Xylo D4 BSIV</td>\n",
       "    </tr>\n",
       "    <tr>\n",
       "      <th>6017</th>\n",
       "      <td>Kolkata</td>\n",
       "      <td>2013</td>\n",
       "      <td>46000</td>\n",
       "      <td>Petrol</td>\n",
       "      <td>Manual</td>\n",
       "      <td>First</td>\n",
       "      <td>5.0</td>\n",
       "      <td>2.65</td>\n",
       "      <td>998.0</td>\n",
       "      <td>67.10</td>\n",
       "      <td>18.90</td>\n",
       "      <td>Maruti</td>\n",
       "      <td>Wagon R VXI</td>\n",
       "    </tr>\n",
       "    <tr>\n",
       "      <th>6018</th>\n",
       "      <td>Hyderabad</td>\n",
       "      <td>2011</td>\n",
       "      <td>47000</td>\n",
       "      <td>Diesel</td>\n",
       "      <td>Manual</td>\n",
       "      <td>First</td>\n",
       "      <td>5.0</td>\n",
       "      <td>2.50</td>\n",
       "      <td>936.0</td>\n",
       "      <td>57.60</td>\n",
       "      <td>25.44</td>\n",
       "      <td>Chevrolet</td>\n",
       "      <td>Beat Diesel</td>\n",
       "    </tr>\n",
       "  </tbody>\n",
       "</table>\n",
       "<p>6019 rows × 13 columns</p>\n",
       "</div>"
      ],
      "text/plain": [
       "        Location  Year  Kilometers_Driven Fuel_Type Transmission Owner_Type  \\\n",
       "0         Mumbai  2010              72000       CNG       Manual      First   \n",
       "1           Pune  2015              41000    Diesel       Manual      First   \n",
       "2        Chennai  2011              46000    Petrol       Manual      First   \n",
       "3        Chennai  2012              87000    Diesel       Manual      First   \n",
       "4     Coimbatore  2013              40670    Diesel    Automatic     Second   \n",
       "...          ...   ...                ...       ...          ...        ...   \n",
       "6014       Delhi  2014              27365    Diesel       Manual      First   \n",
       "6015      Jaipur  2015             100000    Diesel       Manual      First   \n",
       "6016      Jaipur  2012              55000    Diesel       Manual     Second   \n",
       "6017     Kolkata  2013              46000    Petrol       Manual      First   \n",
       "6018   Hyderabad  2011              47000    Diesel       Manual      First   \n",
       "\n",
       "      Seats  Price  cleanEngine  cleanPower  cleanMileage carCompany  \\\n",
       "0       5.0   1.75        998.0       58.16         26.60     Maruti   \n",
       "1       5.0  12.50       1582.0      126.20         19.67    Hyundai   \n",
       "2       5.0   4.50       1199.0       88.70         18.20      Honda   \n",
       "3       7.0   6.00       1248.0       88.76         20.77     Maruti   \n",
       "4       5.0  17.74       1968.0      140.80         15.20       Audi   \n",
       "...     ...    ...          ...         ...           ...        ...   \n",
       "6014    5.0   4.75       1248.0       74.00         28.40     Maruti   \n",
       "6015    5.0   4.00       1120.0       71.00         24.40    Hyundai   \n",
       "6016    8.0   2.90       2498.0      112.00         14.00   Mahindra   \n",
       "6017    5.0   2.65        998.0       67.10         18.90     Maruti   \n",
       "6018    5.0   2.50        936.0       57.60         25.44  Chevrolet   \n",
       "\n",
       "                           Model  \n",
       "0                Wagon R LXI CNG  \n",
       "1       Creta 1.6 CRDi SX Option  \n",
       "2                         Jazz V  \n",
       "3                     Ertiga VDI  \n",
       "4     A4 New 2.0 TDI Multitronic  \n",
       "...                          ...  \n",
       "6014                   Swift VDI  \n",
       "6015            Xcent 1.1 CRDi S  \n",
       "6016                Xylo D4 BSIV  \n",
       "6017                 Wagon R VXI  \n",
       "6018                 Beat Diesel  \n",
       "\n",
       "[6019 rows x 13 columns]"
      ]
     },
     "execution_count": 49,
     "metadata": {},
     "output_type": "execute_result"
    }
   ],
   "source": [
    "data.drop(['Name', 'Mileage', 'Engine', 'Power'], axis = 1)"
   ]
  },
  {
   "cell_type": "markdown",
   "metadata": {},
   "source": [
    "# Checking number of unique Locations"
   ]
  },
  {
   "cell_type": "code",
   "execution_count": 50,
   "metadata": {},
   "outputs": [],
   "source": [
    "uniqueLocations = data.Location.unique()"
   ]
  },
  {
   "cell_type": "code",
   "execution_count": 51,
   "metadata": {},
   "outputs": [
    {
     "data": {
      "text/plain": [
       "11"
      ]
     },
     "execution_count": 51,
     "metadata": {},
     "output_type": "execute_result"
    }
   ],
   "source": [
    "uniqueLocations.size"
   ]
  },
  {
   "cell_type": "markdown",
   "metadata": {},
   "source": [
    "# Performing EDA"
   ]
  },
  {
   "cell_type": "code",
   "execution_count": 52,
   "metadata": {},
   "outputs": [],
   "source": [
    "plt.rcParams[\"figure.figsize\"] = [30,10]"
   ]
  },
  {
   "cell_type": "markdown",
   "metadata": {},
   "source": [
    "# 1. Which car company produces maximum cars"
   ]
  },
  {
   "cell_type": "code",
   "execution_count": 53,
   "metadata": {},
   "outputs": [
    {
     "data": {
      "text/plain": [
       "<matplotlib.axes._subplots.AxesSubplot at 0x1683a51d588>"
      ]
     },
     "execution_count": 53,
     "metadata": {},
     "output_type": "execute_result"
    },
    {
     "data": {
      "image/png": "[encoded data removed]",
      "text/plain": [
       "<Figure size 2160x720 with 1 Axes>"
      ]
     },
     "metadata": {
      "needs_background": "light"
     },
     "output_type": "display_data"
    }
   ],
   "source": [
    "sns.countplot(x = \"carCompany\" , data = data)"
   ]
  },
  {
   "cell_type": "markdown",
   "metadata": {},
   "source": [
    "# 2. Which location gives maximum price of cars"
   ]
  },
  {
   "cell_type": "code",
   "execution_count": 54,
   "metadata": {},
   "outputs": [
    {
     "data": {
      "text/plain": [
       "<matplotlib.axes._subplots.AxesSubplot at 0x16839e48548>"
      ]
     },
     "execution_count": 54,
     "metadata": {},
     "output_type": "execute_result"
    },
    {
     "data": {
      "image/png": "[encoded data removed]",
      "text/plain": [
       "<Figure size 2160x720 with 1 Axes>"
      ]
     },
     "metadata": {
      "needs_background": "light"
     },
     "output_type": "display_data"
    }
   ],
   "source": [
    "plt.title('Location VS Price of car')\n",
    "sns.barplot(data['Location'], data['Price'])"
   ]
  },
  {
   "cell_type": "markdown",
   "metadata": {},
   "source": [
    "# 3. Price of cars according to owner type"
   ]
  },
  {
   "cell_type": "code",
   "execution_count": 55,
   "metadata": {},
   "outputs": [
    {
     "data": {
      "text/plain": [
       "<matplotlib.axes._subplots.AxesSubplot at 0x1683b1fc148>"
      ]
     },
     "execution_count": 55,
     "metadata": {},
     "output_type": "execute_result"
    },
    {
     "data": {
      "image/png": "[encoded data removed]",
      "text/plain": [
       "<Figure size 2160x720 with 1 Axes>"
      ]
     },
     "metadata": {
      "needs_background": "light"
     },
     "output_type": "display_data"
    }
   ],
   "source": [
    "plt.title('Owner Type VS Price of car')\n",
    "sns.barplot(data['Owner_Type'], data['Price'])"
   ]
  },
  {
   "cell_type": "markdown",
   "metadata": {},
   "source": [
    "# Location wise distribution of owner_type of cars"
   ]
  },
  {
   "cell_type": "code",
   "execution_count": 56,
   "metadata": {},
   "outputs": [
    {
     "data": {
      "image/png": "[encoded data removed]",
      "text/plain": [
       "<Figure size 1440x720 with 1 Axes>"
      ]
     },
     "metadata": {
      "needs_background": "light"
     },
     "output_type": "display_data"
    }
   ],
   "source": [
    "g = sns.catplot(x=\"Location\", y=\"Price\", hue=\"Owner_Type\", data=data,kind=\"bar\")\n",
    "g.fig.set_figwidth(20)\n",
    "g.fig.set_figheight(10)"
   ]
  },
  {
   "cell_type": "markdown",
   "metadata": {},
   "source": [
    "# Above graphs shows that Cars which of Third Owner type get maximum value on selling at Coimbatore and Delhi and least value at Jaipur and kochi"
   ]
  },
  {
   "cell_type": "markdown",
   "metadata": {},
   "source": [
    "# 4. Car Company wise distribution of owner type of cars"
   ]
  },
  {
   "cell_type": "code",
   "execution_count": 57,
   "metadata": {},
   "outputs": [
    {
     "data": {
      "image/png": "[encoded data removed]",
      "text/plain": [
       "<Figure size 2880x1440 with 1 Axes>"
      ]
     },
     "metadata": {
      "needs_background": "light"
     },
     "output_type": "display_data"
    }
   ],
   "source": [
    "g = sns.catplot(x=\"carCompany\", y=\"Price\", hue=\"Owner_Type\", data=data,kind=\"bar\")\n",
    "g.fig.set_figwidth(40)\n",
    "g.fig.set_figheight(20)"
   ]
  },
  {
   "cell_type": "markdown",
   "metadata": {},
   "source": [
    "# Above graph shows only maruti, hyundai, toyota and ford cars go for Fourth and above owner type\n",
    "\n",
    "# Price of Audi, Porche and Lamborgini are high even for third owner type"
   ]
  },
  {
   "cell_type": "markdown",
   "metadata": {},
   "source": [
    "# 5. Location wise variation in price of cars belonging to different compnay"
   ]
  },
  {
   "cell_type": "code",
   "execution_count": 58,
   "metadata": {},
   "outputs": [
    {
     "data": {
      "image/png": "[encoded data removed]",
      "text/plain": [
       "<Figure size 5760x1440 with 1 Axes>"
      ]
     },
     "metadata": {
      "needs_background": "light"
     },
     "output_type": "display_data"
    }
   ],
   "source": [
    "g = sns.catplot(x=\"carCompany\", y=\"Price\", hue=\"Location\", data=data,kind=\"bar\")\n",
    "g.fig.set_figwidth(80)\n",
    "g.fig.set_figheight(20)"
   ]
  },
  {
   "cell_type": "markdown",
   "metadata": {},
   "source": [
    "For maruti maximum price is at: Coimbatore and kochi\n",
    "For Hyundai maximum price is at: Coimbatore, Kochi and Bangalore\n",
    "For Honda maximum price is at: Coimbatore, Hyderabad and Kochi\n",
    "For Audi maximum price is at: Coimbatore, Bangalore\n",
    "For Nissan maximum price is at: Coimabatore, Bangalore and Kochi\n",
    "For Toyota maximum price is at: Coimbatore and Kochi"
   ]
  },
  {
   "cell_type": "markdown",
   "metadata": {},
   "source": [
    "# 6. Company wise distribution of owner_type of cars and thier count"
   ]
  },
  {
   "cell_type": "code",
   "execution_count": 59,
   "metadata": {},
   "outputs": [
    {
     "data": {
      "image/png": "[encoded data removed]",
      "text/plain": [
       "<Figure size 2160x720 with 1 Axes>"
      ]
     },
     "metadata": {
      "needs_background": "light"
     },
     "output_type": "display_data"
    }
   ],
   "source": [
    "plt.rcParams[\"figure.figsize\"] = [30,10]\n",
    "g = sns.countplot(x=\"carCompany\", data = data, hue = 'Owner_Type')\n",
    "g.set_xticklabels(g.get_xticklabels(),rotation=30,fontsize=20)\n",
    "plt.tight_layout()\n",
    "plt.show()"
   ]
  },
  {
   "cell_type": "markdown",
   "metadata": {},
   "source": [
    "# Number of unique values in each column"
   ]
  },
  {
   "cell_type": "code",
   "execution_count": 60,
   "metadata": {},
   "outputs": [
    {
     "data": {
      "image/png": "[encoded data removed]",
      "text/plain": [
       "<Figure size 1080x648 with 1 Axes>"
      ]
     },
     "metadata": {
      "needs_background": "light"
     },
     "output_type": "display_data"
    }
   ],
   "source": [
    "plt.rcParams['figure.figsize'] = (15, 9)\n",
    "data.carCompany.value_counts().plot(kind=\"bar\")\n",
    "plt.xlabel('car')\n",
    "plt.ylabel('count')\n",
    "plt.show()"
   ]
  },
  {
   "cell_type": "code",
   "execution_count": 61,
   "metadata": {},
   "outputs": [],
   "source": [
    "import numpy as np\n",
    "p=[]\n",
    "for i in range(1,101,1):\n",
    "    p.append(np.percentile(data.Kilometers_Driven,i))"
   ]
  },
  {
   "cell_type": "code",
   "execution_count": 62,
   "metadata": {},
   "outputs": [
    {
     "data": {
      "image/png": "[encoded data removed]",
      "text/plain": [
       "<Figure size 1080x648 with 1 Axes>"
      ]
     },
     "metadata": {
      "needs_background": "light"
     },
     "output_type": "display_data"
    }
   ],
   "source": [
    "plt.plot(p)\n",
    "plt.xlabel(\"Brand\")\n",
    "plt.ylabel(\"No of cars\")\n",
    "plt.show()"
   ]
  },
  {
   "cell_type": "code",
   "execution_count": 63,
   "metadata": {},
   "outputs": [
    {
     "data": {
      "text/html": [
       "<div>\n",
       "<style scoped>\n",
       "    .dataframe tbody tr th:only-of-type {\n",
       "        vertical-align: middle;\n",
       "    }\n",
       "\n",
       "    .dataframe tbody tr th {\n",
       "        vertical-align: top;\n",
       "    }\n",
       "\n",
       "    .dataframe thead th {\n",
       "        text-align: right;\n",
       "    }\n",
       "</style>\n",
       "<table border=\"1\" class=\"dataframe\">\n",
       "  <thead>\n",
       "    <tr style=\"text-align: right;\">\n",
       "      <th></th>\n",
       "      <th>Name</th>\n",
       "      <th>Location</th>\n",
       "      <th>Year</th>\n",
       "      <th>Kilometers_Driven</th>\n",
       "      <th>Fuel_Type</th>\n",
       "      <th>Transmission</th>\n",
       "      <th>Owner_Type</th>\n",
       "      <th>Mileage</th>\n",
       "      <th>Engine</th>\n",
       "      <th>Power</th>\n",
       "      <th>Seats</th>\n",
       "      <th>Price</th>\n",
       "      <th>cleanEngine</th>\n",
       "      <th>cleanPower</th>\n",
       "      <th>cleanMileage</th>\n",
       "      <th>carCompany</th>\n",
       "      <th>Model</th>\n",
       "    </tr>\n",
       "  </thead>\n",
       "  <tbody>\n",
       "    <tr>\n",
       "      <th>340</th>\n",
       "      <td>Skoda Octavia Ambition Plus 2.0 TDI AT</td>\n",
       "      <td>Kolkata</td>\n",
       "      <td>2013</td>\n",
       "      <td>775000</td>\n",
       "      <td>Diesel</td>\n",
       "      <td>Automatic</td>\n",
       "      <td>First</td>\n",
       "      <td>19.3 kmpl</td>\n",
       "      <td>1968 CC</td>\n",
       "      <td>141 bhp</td>\n",
       "      <td>5.0</td>\n",
       "      <td>7.5</td>\n",
       "      <td>1968.0</td>\n",
       "      <td>141.0</td>\n",
       "      <td>19.30</td>\n",
       "      <td>Skoda</td>\n",
       "      <td>Octavia Ambition Plus 2.0 TDI AT</td>\n",
       "    </tr>\n",
       "    <tr>\n",
       "      <th>358</th>\n",
       "      <td>Hyundai i10 Magna 1.2</td>\n",
       "      <td>Chennai</td>\n",
       "      <td>2009</td>\n",
       "      <td>620000</td>\n",
       "      <td>Petrol</td>\n",
       "      <td>Manual</td>\n",
       "      <td>First</td>\n",
       "      <td>20.36 kmpl</td>\n",
       "      <td>1197 CC</td>\n",
       "      <td>78.9 bhp</td>\n",
       "      <td>5.0</td>\n",
       "      <td>2.7</td>\n",
       "      <td>1197.0</td>\n",
       "      <td>78.9</td>\n",
       "      <td>20.36</td>\n",
       "      <td>Hyundai</td>\n",
       "      <td>i10 Magna 1.2</td>\n",
       "    </tr>\n",
       "    <tr>\n",
       "      <th>1860</th>\n",
       "      <td>Volkswagen Vento Diesel Highline</td>\n",
       "      <td>Chennai</td>\n",
       "      <td>2013</td>\n",
       "      <td>720000</td>\n",
       "      <td>Diesel</td>\n",
       "      <td>Manual</td>\n",
       "      <td>First</td>\n",
       "      <td>20.54 kmpl</td>\n",
       "      <td>1598 CC</td>\n",
       "      <td>103.6 bhp</td>\n",
       "      <td>5.0</td>\n",
       "      <td>5.9</td>\n",
       "      <td>1598.0</td>\n",
       "      <td>103.6</td>\n",
       "      <td>20.54</td>\n",
       "      <td>Volkswagen</td>\n",
       "      <td>Vento Diesel Highline</td>\n",
       "    </tr>\n",
       "    <tr>\n",
       "      <th>2328</th>\n",
       "      <td>BMW X5 xDrive 30d M Sport</td>\n",
       "      <td>Chennai</td>\n",
       "      <td>2017</td>\n",
       "      <td>6500000</td>\n",
       "      <td>Diesel</td>\n",
       "      <td>Automatic</td>\n",
       "      <td>First</td>\n",
       "      <td>15.97 kmpl</td>\n",
       "      <td>2993 CC</td>\n",
       "      <td>258 bhp</td>\n",
       "      <td>5.0</td>\n",
       "      <td>65.0</td>\n",
       "      <td>2993.0</td>\n",
       "      <td>258.0</td>\n",
       "      <td>15.97</td>\n",
       "      <td>BMW</td>\n",
       "      <td>X5 xDrive 30d M Sport</td>\n",
       "    </tr>\n",
       "  </tbody>\n",
       "</table>\n",
       "</div>"
      ],
      "text/plain": [
       "                                        Name Location  Year  \\\n",
       "340   Skoda Octavia Ambition Plus 2.0 TDI AT  Kolkata  2013   \n",
       "358                    Hyundai i10 Magna 1.2  Chennai  2009   \n",
       "1860        Volkswagen Vento Diesel Highline  Chennai  2013   \n",
       "2328               BMW X5 xDrive 30d M Sport  Chennai  2017   \n",
       "\n",
       "      Kilometers_Driven Fuel_Type Transmission Owner_Type     Mileage  \\\n",
       "340              775000    Diesel    Automatic      First   19.3 kmpl   \n",
       "358              620000    Petrol       Manual      First  20.36 kmpl   \n",
       "1860             720000    Diesel       Manual      First  20.54 kmpl   \n",
       "2328            6500000    Diesel    Automatic      First  15.97 kmpl   \n",
       "\n",
       "       Engine      Power  Seats  Price  cleanEngine  cleanPower  cleanMileage  \\\n",
       "340   1968 CC    141 bhp    5.0    7.5       1968.0       141.0         19.30   \n",
       "358   1197 CC   78.9 bhp    5.0    2.7       1197.0        78.9         20.36   \n",
       "1860  1598 CC  103.6 bhp    5.0    5.9       1598.0       103.6         20.54   \n",
       "2328  2993 CC    258 bhp    5.0   65.0       2993.0       258.0         15.97   \n",
       "\n",
       "      carCompany                             Model  \n",
       "340        Skoda  Octavia Ambition Plus 2.0 TDI AT  \n",
       "358      Hyundai                     i10 Magna 1.2  \n",
       "1860  Volkswagen             Vento Diesel Highline  \n",
       "2328         BMW             X5 xDrive 30d M Sport  "
      ]
     },
     "execution_count": 63,
     "metadata": {},
     "output_type": "execute_result"
    }
   ],
   "source": [
    "data[data.Kilometers_Driven>=600000]"
   ]
  },
  {
   "cell_type": "markdown",
   "metadata": {},
   "source": [
    "### Only one value is around 60L ,so which could be an outlier"
   ]
  },
  {
   "cell_type": "code",
   "execution_count": 64,
   "metadata": {},
   "outputs": [
    {
     "data": {
      "image/png": "[encoded data removed]",
      "text/plain": [
       "<Figure size 1080x648 with 1 Axes>"
      ]
     },
     "metadata": {
      "needs_background": "light"
     },
     "output_type": "display_data"
    }
   ],
   "source": [
    "import seaborn as sns\n",
    "import matplotlib.pyplot as plt\n",
    "a= sns.scatterplot(x=\"Price\", y=\"carCompany\",hue=\"Year\" ,data=data)\n",
    "plt.show()"
   ]
  },
  {
   "cell_type": "code",
   "execution_count": 65,
   "metadata": {},
   "outputs": [
    {
     "data": {
      "text/plain": [
       "Name                 1876\n",
       "Location               11\n",
       "Year                   22\n",
       "Kilometers_Driven    3093\n",
       "Fuel_Type               5\n",
       "Transmission            2\n",
       "Owner_Type              4\n",
       "Mileage               442\n",
       "Engine                146\n",
       "Power                 372\n",
       "Seats                   9\n",
       "Price                1373\n",
       "cleanEngine           147\n",
       "cleanPower            370\n",
       "cleanMileage          431\n",
       "carCompany             31\n",
       "Model                1876\n",
       "dtype: int64"
      ]
     },
     "execution_count": 65,
     "metadata": {},
     "output_type": "execute_result"
    }
   ],
   "source": [
    "data.nunique(axis=0)"
   ]
  },
  {
   "cell_type": "markdown",
   "metadata": {},
   "source": [
    "# Description of each kind of numeric column"
   ]
  },
  {
   "cell_type": "code",
   "execution_count": 66,
   "metadata": {},
   "outputs": [
    {
     "data": {
      "text/html": [
       "<div>\n",
       "<style scoped>\n",
       "    .dataframe tbody tr th:only-of-type {\n",
       "        vertical-align: middle;\n",
       "    }\n",
       "\n",
       "    .dataframe tbody tr th {\n",
       "        vertical-align: top;\n",
       "    }\n",
       "\n",
       "    .dataframe thead th {\n",
       "        text-align: right;\n",
       "    }\n",
       "</style>\n",
       "<table border=\"1\" class=\"dataframe\">\n",
       "  <thead>\n",
       "    <tr style=\"text-align: right;\">\n",
       "      <th></th>\n",
       "      <th>Year</th>\n",
       "      <th>Kilometers_Driven</th>\n",
       "      <th>Seats</th>\n",
       "      <th>Price</th>\n",
       "      <th>cleanEngine</th>\n",
       "      <th>cleanPower</th>\n",
       "      <th>cleanMileage</th>\n",
       "    </tr>\n",
       "  </thead>\n",
       "  <tbody>\n",
       "    <tr>\n",
       "      <th>count</th>\n",
       "      <td>6019.000000</td>\n",
       "      <td>6019.000000</td>\n",
       "      <td>6019.000000</td>\n",
       "      <td>6019.000000</td>\n",
       "      <td>6019.000000</td>\n",
       "      <td>6019.000000</td>\n",
       "      <td>6019.000000</td>\n",
       "    </tr>\n",
       "    <tr>\n",
       "      <th>mean</th>\n",
       "      <td>2013.358199</td>\n",
       "      <td>58738.380296</td>\n",
       "      <td>5.255856</td>\n",
       "      <td>9.479468</td>\n",
       "      <td>1621.276447</td>\n",
       "      <td>113.204915</td>\n",
       "      <td>18.134961</td>\n",
       "    </tr>\n",
       "    <tr>\n",
       "      <th>std</th>\n",
       "      <td>3.269742</td>\n",
       "      <td>91268.843206</td>\n",
       "      <td>0.850975</td>\n",
       "      <td>11.187917</td>\n",
       "      <td>599.553865</td>\n",
       "      <td>53.231914</td>\n",
       "      <td>4.581528</td>\n",
       "    </tr>\n",
       "    <tr>\n",
       "      <th>min</th>\n",
       "      <td>1998.000000</td>\n",
       "      <td>171.000000</td>\n",
       "      <td>0.000000</td>\n",
       "      <td>0.440000</td>\n",
       "      <td>72.000000</td>\n",
       "      <td>34.200000</td>\n",
       "      <td>0.000000</td>\n",
       "    </tr>\n",
       "    <tr>\n",
       "      <th>25%</th>\n",
       "      <td>2011.000000</td>\n",
       "      <td>34000.000000</td>\n",
       "      <td>5.000000</td>\n",
       "      <td>3.500000</td>\n",
       "      <td>1198.000000</td>\n",
       "      <td>78.000000</td>\n",
       "      <td>15.170000</td>\n",
       "    </tr>\n",
       "    <tr>\n",
       "      <th>50%</th>\n",
       "      <td>2014.000000</td>\n",
       "      <td>53000.000000</td>\n",
       "      <td>5.000000</td>\n",
       "      <td>5.640000</td>\n",
       "      <td>1493.000000</td>\n",
       "      <td>98.600000</td>\n",
       "      <td>18.150000</td>\n",
       "    </tr>\n",
       "    <tr>\n",
       "      <th>75%</th>\n",
       "      <td>2016.000000</td>\n",
       "      <td>73000.000000</td>\n",
       "      <td>5.000000</td>\n",
       "      <td>9.950000</td>\n",
       "      <td>1969.000000</td>\n",
       "      <td>138.030000</td>\n",
       "      <td>21.100000</td>\n",
       "    </tr>\n",
       "    <tr>\n",
       "      <th>max</th>\n",
       "      <td>2019.000000</td>\n",
       "      <td>6500000.000000</td>\n",
       "      <td>10.000000</td>\n",
       "      <td>160.000000</td>\n",
       "      <td>5998.000000</td>\n",
       "      <td>560.000000</td>\n",
       "      <td>33.540000</td>\n",
       "    </tr>\n",
       "  </tbody>\n",
       "</table>\n",
       "</div>"
      ],
      "text/plain": [
       "              Year Kilometers_Driven        Seats        Price  cleanEngine  \\\n",
       "count  6019.000000       6019.000000  6019.000000  6019.000000  6019.000000   \n",
       "mean   2013.358199      58738.380296     5.255856     9.479468  1621.276447   \n",
       "std       3.269742      91268.843206     0.850975    11.187917   599.553865   \n",
       "min    1998.000000        171.000000     0.000000     0.440000    72.000000   \n",
       "25%    2011.000000      34000.000000     5.000000     3.500000  1198.000000   \n",
       "50%    2014.000000      53000.000000     5.000000     5.640000  1493.000000   \n",
       "75%    2016.000000      73000.000000     5.000000     9.950000  1969.000000   \n",
       "max    2019.000000    6500000.000000    10.000000   160.000000  5998.000000   \n",
       "\n",
       "        cleanPower cleanMileage  \n",
       "count  6019.000000  6019.000000  \n",
       "mean    113.204915    18.134961  \n",
       "std      53.231914     4.581528  \n",
       "min      34.200000     0.000000  \n",
       "25%      78.000000    15.170000  \n",
       "50%      98.600000    18.150000  \n",
       "75%     138.030000    21.100000  \n",
       "max     560.000000    33.540000  "
      ]
     },
     "execution_count": 66,
     "metadata": {},
     "output_type": "execute_result"
    }
   ],
   "source": [
    "data.describe().apply(lambda s: s.apply(lambda x: format(x, 'f')))"
   ]
  },
  {
   "cell_type": "code",
   "execution_count": 67,
   "metadata": {},
   "outputs": [],
   "source": [
    "from sklearn import preprocessing"
   ]
  },
  {
   "cell_type": "code",
   "execution_count": 68,
   "metadata": {},
   "outputs": [
    {
     "data": {
      "text/html": [
       "<div>\n",
       "<style scoped>\n",
       "    .dataframe tbody tr th:only-of-type {\n",
       "        vertical-align: middle;\n",
       "    }\n",
       "\n",
       "    .dataframe tbody tr th {\n",
       "        vertical-align: top;\n",
       "    }\n",
       "\n",
       "    .dataframe thead th {\n",
       "        text-align: right;\n",
       "    }\n",
       "</style>\n",
       "<table border=\"1\" class=\"dataframe\">\n",
       "  <thead>\n",
       "    <tr style=\"text-align: right;\">\n",
       "      <th></th>\n",
       "      <th>Kilometers_Driven</th>\n",
       "      <th>Year</th>\n",
       "      <th>Seats</th>\n",
       "      <th>cleanEngine</th>\n",
       "      <th>cleanPower</th>\n",
       "      <th>cleanMileage</th>\n",
       "    </tr>\n",
       "  </thead>\n",
       "  <tbody>\n",
       "    <tr>\n",
       "      <th>0</th>\n",
       "      <td>72000</td>\n",
       "      <td>2010</td>\n",
       "      <td>5.0</td>\n",
       "      <td>998.0</td>\n",
       "      <td>58.16</td>\n",
       "      <td>26.60</td>\n",
       "    </tr>\n",
       "    <tr>\n",
       "      <th>1</th>\n",
       "      <td>41000</td>\n",
       "      <td>2015</td>\n",
       "      <td>5.0</td>\n",
       "      <td>1582.0</td>\n",
       "      <td>126.20</td>\n",
       "      <td>19.67</td>\n",
       "    </tr>\n",
       "    <tr>\n",
       "      <th>2</th>\n",
       "      <td>46000</td>\n",
       "      <td>2011</td>\n",
       "      <td>5.0</td>\n",
       "      <td>1199.0</td>\n",
       "      <td>88.70</td>\n",
       "      <td>18.20</td>\n",
       "    </tr>\n",
       "    <tr>\n",
       "      <th>3</th>\n",
       "      <td>87000</td>\n",
       "      <td>2012</td>\n",
       "      <td>7.0</td>\n",
       "      <td>1248.0</td>\n",
       "      <td>88.76</td>\n",
       "      <td>20.77</td>\n",
       "    </tr>\n",
       "    <tr>\n",
       "      <th>4</th>\n",
       "      <td>40670</td>\n",
       "      <td>2013</td>\n",
       "      <td>5.0</td>\n",
       "      <td>1968.0</td>\n",
       "      <td>140.80</td>\n",
       "      <td>15.20</td>\n",
       "    </tr>\n",
       "  </tbody>\n",
       "</table>\n",
       "</div>"
      ],
      "text/plain": [
       "   Kilometers_Driven  Year  Seats  cleanEngine  cleanPower  cleanMileage\n",
       "0              72000  2010    5.0        998.0       58.16         26.60\n",
       "1              41000  2015    5.0       1582.0      126.20         19.67\n",
       "2              46000  2011    5.0       1199.0       88.70         18.20\n",
       "3              87000  2012    7.0       1248.0       88.76         20.77\n",
       "4              40670  2013    5.0       1968.0      140.80         15.20"
      ]
     },
     "execution_count": 68,
     "metadata": {},
     "output_type": "execute_result"
    }
   ],
   "source": [
    "#features \n",
    "x = data[['Kilometers_Driven','Year','Seats','cleanEngine','cleanPower','cleanMileage']]\n",
    "x.head(5)"
   ]
  },
  {
   "cell_type": "code",
   "execution_count": 69,
   "metadata": {},
   "outputs": [],
   "source": [
    "y = data['Price']"
   ]
  },
  {
   "cell_type": "code",
   "execution_count": 70,
   "metadata": {},
   "outputs": [
    {
     "name": "stdout",
     "output_type": "stream",
     "text": [
      "Train set: (4514, 6) (4514,)\n",
      "Test set: (1505, 6) (1505,)\n"
     ]
    }
   ],
   "source": [
    "#applying train-test-split\n",
    "from sklearn.model_selection import train_test_split\n",
    "x_train,x_test,y_train,y_test = train_test_split(x,y,test_size=0.25, random_state=4)\n",
    "print ('Train set:', x_train.shape,  y_train.shape)\n",
    "print ('Test set:', x_test.shape,  y_test.shape)"
   ]
  },
  {
   "cell_type": "code",
   "execution_count": 109,
   "metadata": {},
   "outputs": [],
   "source": [
    "from sklearn.model_selection import RandomizedSearchCV\n",
    "from sklearn.linear_model import Lasso\n",
    "C=[0.001,0.01,0.1,1,10,100,1000]\n",
    "param_grid=dict(alpha=C)\n",
    "clf=RandomizedSearchCV(Lasso(),param_grid,random_state=1,cv=5,verbose=0,scoring='neg_mean_squared_error')"
   ]
  },
  {
   "cell_type": "code",
   "execution_count": 112,
   "metadata": {},
   "outputs": [
    {
     "data": {
      "text/plain": [
       "Lasso(alpha=0.001)"
      ]
     },
     "execution_count": 112,
     "metadata": {},
     "output_type": "execute_result"
    }
   ],
   "source": [
    "clf1=Lasso(alpha=0.001)\n",
    "clf1.fit(x_train,y_train)"
   ]
  },
  {
   "cell_type": "code",
   "execution_count": 126,
   "metadata": {},
   "outputs": [],
   "source": [
    "from sklearn.ensemble import RandomForestRegressor\n",
    "from sklearn.model_selection import RandomizedSearchCV\n",
    "import numpy as np\n",
    "hyperparameters=dict(n_estimators=[1,2,4,8,16,32,64,100,200],max_depth=np.linspace(1,32,32,endpoint=True))\n",
    "clf=RandomizedSearchCV(RandomForestRegressor(),hyperparameters,random_state=1,cv=5,verbose=0,scoring='neg_mean_squared_error')\n",
    "best_model=clf.fit(x_train,y_train)"
   ]
  },
  {
   "cell_type": "code",
   "execution_count": 130,
   "metadata": {},
   "outputs": [
    {
     "data": {
      "text/plain": [
       "RandomForestRegressor(max_depth=21.0, n_estimators=32)"
      ]
     },
     "execution_count": 130,
     "metadata": {},
     "output_type": "execute_result"
    }
   ],
   "source": [
    "clf1=RandomForestRegressor(n_estimators=32,max_depth=21.0)\n",
    "clf1.fit(x_train,y_train)"
   ]
  },
  {
   "cell_type": "code",
   "execution_count": 131,
   "metadata": {},
   "outputs": [],
   "source": [
    "y_pred_test=best_model.predict(x_test)"
   ]
  },
  {
   "cell_type": "code",
   "execution_count": 132,
   "metadata": {},
   "outputs": [
    {
     "data": {
      "text/plain": [
       "0.8985513363700538"
      ]
     },
     "execution_count": 132,
     "metadata": {},
     "output_type": "execute_result"
    }
   ],
   "source": [
    "from sklearn.metrics import r2_score\n",
    "r2_score(y_test,y_pred_test)"
   ]
  },
  {
   "cell_type": "code",
   "execution_count": 135,
   "metadata": {},
   "outputs": [
    {
     "name": "stdout",
     "output_type": "stream",
     "text": [
      "RMS 3.5760495321492773 R2 Score:  0.8985513363700538\n"
     ]
    }
   ],
   "source": [
    "from sklearn.metrics import r2_score\n",
    "from sklearn.metrics import mean_squared_error\n",
    "from math import sqrt\n",
    "rms=sqrt(mean_squared_error(y_test,y_pred_test))\n",
    "print('RMS',rms,'R2 Score: ',r2_score(y_test,y_pred_test))"
   ]
  },
  {
   "cell_type": "code",
   "execution_count": 153,
   "metadata": {},
   "outputs": [
    {
     "data": {
      "text/plain": [
       "LinearRegression()"
      ]
     },
     "execution_count": 153,
     "metadata": {},
     "output_type": "execute_result"
    }
   ],
   "source": [
    "from sklearn.linear_model import LinearRegression\n",
    "from sklearn.metrics import confusion_matrix\n",
    "lr = LinearRegression().fit(x_train,y_train)\n",
    "lr"
   ]
  },
  {
   "cell_type": "code",
   "execution_count": 154,
   "metadata": {},
   "outputs": [
    {
     "data": {
      "text/html": [
       "<div>\n",
       "<style scoped>\n",
       "    .dataframe tbody tr th:only-of-type {\n",
       "        vertical-align: middle;\n",
       "    }\n",
       "\n",
       "    .dataframe tbody tr th {\n",
       "        vertical-align: top;\n",
       "    }\n",
       "\n",
       "    .dataframe thead th {\n",
       "        text-align: right;\n",
       "    }\n",
       "</style>\n",
       "<table border=\"1\" class=\"dataframe\">\n",
       "  <thead>\n",
       "    <tr style=\"text-align: right;\">\n",
       "      <th></th>\n",
       "      <th>actual</th>\n",
       "      <th>predicted</th>\n",
       "    </tr>\n",
       "  </thead>\n",
       "  <tbody>\n",
       "    <tr>\n",
       "      <th>0</th>\n",
       "      <td>8.00</td>\n",
       "      <td>13.962824</td>\n",
       "    </tr>\n",
       "    <tr>\n",
       "      <th>1</th>\n",
       "      <td>6.67</td>\n",
       "      <td>6.638592</td>\n",
       "    </tr>\n",
       "    <tr>\n",
       "      <th>2</th>\n",
       "      <td>1.50</td>\n",
       "      <td>1.086112</td>\n",
       "    </tr>\n",
       "    <tr>\n",
       "      <th>3</th>\n",
       "      <td>3.25</td>\n",
       "      <td>3.733180</td>\n",
       "    </tr>\n",
       "    <tr>\n",
       "      <th>4</th>\n",
       "      <td>7.75</td>\n",
       "      <td>11.309855</td>\n",
       "    </tr>\n",
       "  </tbody>\n",
       "</table>\n",
       "</div>"
      ],
      "text/plain": [
       "   actual  predicted\n",
       "0    8.00  13.962824\n",
       "1    6.67   6.638592\n",
       "2    1.50   1.086112\n",
       "3    3.25   3.733180\n",
       "4    7.75  11.309855"
      ]
     },
     "execution_count": 154,
     "metadata": {},
     "output_type": "execute_result"
    }
   ],
   "source": [
    "y_pred_test = lr.predict(x_test)\n",
    "data_pred_test = pd.DataFrame(zip(y_test,y_pred_test),columns=['actual','predicted'])\n",
    "data_pred_test.head()"
   ]
  },
  {
   "cell_type": "code",
   "execution_count": 73,
   "metadata": {},
   "outputs": [
    {
     "name": "stdout",
     "output_type": "stream",
     "text": [
      "-1981.3543822574422\n",
      "[-1.46454266e-05  9.81739481e-01 -7.83305981e-01  2.51362555e-03\n",
      "  1.37219941e-01 -2.51425954e-02]\n"
     ]
    }
   ],
   "source": [
    "print(lr.intercept_)\n",
    "print(lr.coef_)"
   ]
  },
  {
   "cell_type": "code",
   "execution_count": 74,
   "metadata": {},
   "outputs": [
    {
     "data": {
      "text/plain": [
       "array([13.9628241 ,  6.63859226,  1.08611152, ..., 11.32286693,\n",
       "        3.15191527,  5.86807222])"
      ]
     },
     "execution_count": 74,
     "metadata": {},
     "output_type": "execute_result"
    }
   ],
   "source": [
    "yhat = lr.predict(x_test)\n",
    "yhat"
   ]
  },
  {
   "cell_type": "code",
   "execution_count": 143,
   "metadata": {},
   "outputs": [
    {
     "name": "stdout",
     "output_type": "stream",
     "text": [
      "Mean Absolute Error: 4.034067440466638\n",
      "Mean Squared Error: 50.500888698400416\n"
     ]
    }
   ],
   "source": [
    "from sklearn import metrics\n",
    "from sklearn.metrics import r2_score\n",
    "from math import sqrt\n",
    "print('Mean Absolute Error:', metrics.mean_absolute_error(y_test, yhat))  \n",
    "print('Mean Squared Error:', metrics.mean_squared_error(y_test, yhat))  \n"
   ]
  },
  {
   "cell_type": "code",
   "execution_count": 144,
   "metadata": {},
   "outputs": [],
   "source": [
    "df = pd.DataFrame({'Actual': y_test, 'Predicted': yhat})\n",
    "df1=df.head(10)"
   ]
  },
  {
   "cell_type": "code",
   "execution_count": 145,
   "metadata": {},
   "outputs": [
    {
     "data": {
      "image/png": "[encoded data removed]",
      "text/plain": [
       "<Figure size 1152x720 with 1 Axes>"
      ]
     },
     "metadata": {
      "needs_background": "light"
     },
     "output_type": "display_data"
    }
   ],
   "source": [
    "df1 = df.head(25)\n",
    "df1.plot(kind='bar',figsize=(16,10))\n",
    "plt.grid(which='major', linestyle='-', linewidth='0.5', color='green')\n",
    "plt.grid(which='minor', linestyle=':', linewidth='0.5', color='black')\n",
    "plt.show()"
   ]
  },
  {
   "cell_type": "code",
   "execution_count": 146,
   "metadata": {},
   "outputs": [
    {
     "name": "stdout",
     "output_type": "stream",
     "text": [
      " Train Score is 0.6851361514256652\n"
     ]
    }
   ],
   "source": [
    "print (f' Train Score is {lr.score(x_train, y_train)}')"
   ]
  },
  {
   "cell_type": "code",
   "execution_count": 195,
   "metadata": {},
   "outputs": [
    {
     "name": "stdout",
     "output_type": "stream",
     "text": [
      " Train Score is 0.6851361514256656\n",
      " Test Score is 0.5993747664542786\n"
     ]
    }
   ],
   "source": [
    "print (f' Train Score is {lr.score(x_train, y_train)}')\n",
    "print (f' Test Score is {lr.score(x_test, y_test)}')"
   ]
  },
  {
   "cell_type": "code",
   "execution_count": 148,
   "metadata": {},
   "outputs": [
    {
     "name": "stdout",
     "output_type": "stream",
     "text": [
      "Accuracy:0.821\n"
     ]
    }
   ],
   "source": [
    "#applying gradient boosting\n",
    "from sklearn.ensemble import GradientBoostingRegressor\n",
    "xTrain, xTest, yTrain, yTest = train_test_split(x, y,train_size = 0.75)\n",
    "\n",
    "gb = GradientBoostingRegressor(n_estimators=100, learning_rate=0.1, max_depth=10, random_state=0, loss='huber')\n",
    "gb = gb.fit(xTrain, yTrain)\n",
    "y_pred = gb.predict(xTest)\n",
    "print(\"Accuracy:{0:.3f}\".format(gb.score( xTest,yTest)))"
   ]
  },
  {
   "cell_type": "code",
   "execution_count": 149,
   "metadata": {},
   "outputs": [
    {
     "name": "stdout",
     "output_type": "stream",
     "text": [
      " Train Score is 0.6989546917826948\n",
      " Test Score is 0.5680971996057728\n"
     ]
    }
   ],
   "source": [
    "print (f' Train Score is {lr.score(xTrain, yTrain)}')\n",
    "print (f' Test Score is {lr.score(xTest, yTest)}')"
   ]
  },
  {
   "cell_type": "code",
   "execution_count": 150,
   "metadata": {},
   "outputs": [],
   "source": [
    "df = pd.DataFrame({'Actual': yTest, 'Predicted': y_pred})\n",
    "df1=df.head(10)"
   ]
  },
  {
   "cell_type": "code",
   "execution_count": 151,
   "metadata": {},
   "outputs": [
    {
     "data": {
      "image/png": "[encoded data removed]",
      "text/plain": [
       "<Figure size 720x576 with 1 Axes>"
      ]
     },
     "metadata": {
      "needs_background": "light"
     },
     "output_type": "display_data"
    }
   ],
   "source": [
    "df1.plot(kind='bar',figsize=(10,8))\n",
    "plt.grid(which='major', linestyle='-', linewidth='0.5', color='green')\n",
    "plt.grid(which='minor', linestyle=':', linewidth='0.5', color='black')\n",
    "plt.show()"
   ]
  },
  {
   "cell_type": "code",
   "execution_count": 152,
   "metadata": {},
   "outputs": [
    {
     "data": {
      "text/plain": [
       "<matplotlib.legend.Legend at 0x16840e7f548>"
      ]
     },
     "execution_count": 152,
     "metadata": {},
     "output_type": "execute_result"
    },
    {
     "data": {
      "image/png": "[encoded data removed]",
      "text/plain": [
       "<Figure size 720x360 with 1 Axes>"
      ]
     },
     "metadata": {
      "needs_background": "light"
     },
     "output_type": "display_data"
    }
   ],
   "source": [
    "%matplotlib inline \n",
    "import matplotlib.pyplot as plt\n",
    "plt.figure(figsize=(10,5))\n",
    "plt.scatter(data_pred_test.index,data_pred_test.actual,label=\"actual\")\n",
    "plt.scatter(data_pred_test.index,data_pred_test.predicted,label=\"predicted\")\n",
    "plt.legend()"
   ]
  }
 ],
 "metadata": {
  "kernelspec": {
   "display_name": "Python 3",
   "language": "python",
   "name": "python3"
  },
  "language_info": {
   "codemirror_mode": {
    "name": "ipython",
    "version": 3
   },
   "file_extension": ".py",
   "mimetype": "text/x-python",
   "name": "python",
   "nbconvert_exporter": "python",
   "pygments_lexer": "ipython3",
   "version": "3.7.7"
  }
 },
 "nbformat": 4,
 "nbformat_minor": 2
}
